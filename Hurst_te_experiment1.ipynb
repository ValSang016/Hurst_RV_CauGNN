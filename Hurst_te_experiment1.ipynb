{
 "cells": [
  {
   "metadata": {
    "ExecuteTime": {
     "end_time": "2024-09-10T13:22:25.299049Z",
     "start_time": "2024-09-10T13:22:23.742773Z"
    }
   },
   "cell_type": "code",
   "source": [
    "import datetime\n",
    "import os\n",
    "import time\n",
    "from sklearn.preprocessing import MinMaxScaler\n",
    "\n",
    "\n",
    "import pandas as pd\n",
    "from openpyxl import load_workbook\n",
    "\n",
    "import Optim\n",
    "from tqdm import tqdm\n",
    "\n",
    "import torch\n",
    "import torch.nn as nn\n",
    "import torch.nn.functional as F\n",
    "from torch.utils.data import Dataset, DataLoader\n",
    "import numpy as np\n",
    "from datetime import datetime\n",
    "import math\n",
    "\n",
    "import matplotlib.pyplot as plt\n",
    "import matplotlib.dates as mdates\n",
    "from matplotlib.ticker import MaxNLocator, MultipleLocator\n",
    "\n",
    "from hurst import compute_Hc\n",
    "\n",
    "from layer import DenseGraphConv\n",
    "\n",
    "\n",
    "np.seterr(divide='ignore',invalid='ignore')\n"
   ],
   "id": "2fc539aa980293d3",
   "outputs": [
    {
     "data": {
      "text/plain": [
       "{'divide': 'warn', 'over': 'warn', 'under': 'ignore', 'invalid': 'warn'}"
      ]
     },
     "execution_count": 2,
     "metadata": {},
     "output_type": "execute_result"
    }
   ],
   "execution_count": 2
  },
  {
   "metadata": {
    "ExecuteTime": {
     "end_time": "2024-09-10T13:22:22.001340Z",
     "start_time": "2024-09-10T13:22:21.980831Z"
    }
   },
   "cell_type": "code",
   "source": [
    "import os\n",
    "\n",
    "# 현재 작업 디렉토리 확인\n",
    "current_directory = os.getcwd()\n",
    "print(f\"현재 작업 디렉토리: {current_directory}\")\n",
    "\n",
    "# 변경하고자 하는 디렉토리 경로\n",
    "new_directory = 'C:/Users/sangheon/Desktop/Hurst_TE_RealizedVol'\n",
    "\n",
    "# 작업 디렉토리 변경\n",
    "os.chdir(new_directory)\n",
    "\n",
    "# 변경된 작업 디렉토리 확인\n",
    "new_current_directory = os.getcwd()\n",
    "print(f\"변경된 작업 디렉토리: {new_current_directory}\")\n"
   ],
   "id": "8c604dcc27b16545",
   "outputs": [
    {
     "name": "stdout",
     "output_type": "stream",
     "text": [
      "현재 작업 디렉토리: C:\\Program Files\\JetBrains\\PyCharm 2024.1.4\\jbr\\bin\n",
      "변경된 작업 디렉토리: C:\\Users\\sangheon\\Desktop\\Hurst_TE_RealizedVol\n"
     ]
    }
   ],
   "execution_count": 1
  },
  {
   "metadata": {
    "ExecuteTime": {
     "end_time": "2024-09-10T13:22:25.586519Z",
     "start_time": "2024-09-10T13:22:25.566506Z"
    }
   },
   "cell_type": "code",
   "source": [
    "# 각 값이 어떤 bin에 속하는지 인덱싱\n",
    "def value_to_bin(value_list, m, M, increments):\n",
    "    result = []\n",
    "    for v in value_list:\n",
    "        m_increments = m;\n",
    "        bin_increments = 0\n",
    "        while (m_increments < v):\n",
    "            m_increments = m_increments + increments\n",
    "            bin_increments = bin_increments + 1\n",
    "        result.append(bin_increments)\n",
    "    return result\n",
    "\n",
    "# calculate omega\n",
    "def error_cov_matrix(sigma, tau, P):\n",
    "    matrix = np.diag(np.diag(P.dot(tau * sigma).dot(P.T)))\n",
    "    return matrix\n",
    "\n",
    "\n",
    "inc = 0.01\n",
    "n_random = 25\n",
    "\n",
    "\n",
    "def TE_caculate(X, increments=inc):\n",
    "    \n",
    "    # 최대값, 최소값, bin size\n",
    "    M = np.max(X)\n",
    "    M_ceil = np.ceil(M / increments) * increments  # 반올림\n",
    "    m = np.min(X)\n",
    "    m_floor = np.floor(m / increments) * increments  # 반내림\n",
    "\n",
    "    # calculate TE\n",
    "    TE_matrix = np.zeros((X.shape[1], X.shape[1]))\n",
    "    for i in range(X.shape[1]):\n",
    "        for j in range(X.shape[1]):\n",
    "            if i == j:\n",
    "                continue\n",
    "            else:\n",
    "                # print(v, '->', w)\n",
    "                xn1 = [r[j] for r in X][1:]\n",
    "                xn = [r[j] for r in X][:-1]\n",
    "                yn = [r[i] for r in X][:-1]\n",
    "\n",
    "                # binning\n",
    "                xn1_bin = value_to_bin(xn1, m_floor, M_ceil, increments)\n",
    "                xn_bin = value_to_bin(xn, m_floor, M_ceil, increments)\n",
    "                yn_bin = value_to_bin(yn, m_floor, M_ceil, increments)\n",
    "\n",
    "                # bin freq\n",
    "                xn_freq = list(np.unique(np.array(xn_bin), return_counts=True))\n",
    "                xn_freq.append(xn_freq[1] / sum(xn_freq[1]))\n",
    "                xn_xn1_freq = list(np.unique(np.array([xn_bin, xn1_bin]).T, return_counts=True, axis=0))\n",
    "                xn_xn1_freq.append(xn_xn1_freq[1] / sum(xn_xn1_freq[1]))\n",
    "                xn_yn_freq = list(np.unique(np.array([xn_bin, yn_bin]).T, return_counts=True, axis=0))\n",
    "                xn_yn_freq.append(xn_yn_freq[1] / sum(xn_yn_freq[1]))\n",
    "                xn_xn1_yn_freq = list(np.unique(np.array([xn_bin, xn1_bin, yn_bin]).T, return_counts=True, axis=0))\n",
    "                xn_xn1_yn_freq.append(xn_xn1_yn_freq[1] / sum(xn_xn1_yn_freq[1]))\n",
    "\n",
    "                # calculate TE\n",
    "                TE_xy = 0\n",
    "                for ii, vv in enumerate(xn_xn1_yn_freq[0]):\n",
    "                    p_in_in1_jn = xn_xn1_yn_freq[2][ii]\n",
    "                    index_in_in1 = xn_xn1_freq[0].tolist().index(vv[:2].tolist())\n",
    "                    p_in_in1 = xn_xn1_freq[2][index_in_in1]\n",
    "                    index_in_jn = xn_yn_freq[0].tolist().index(vv[[0, 2]].tolist())\n",
    "                    p_in_jn = xn_yn_freq[2][index_in_jn]\n",
    "                    index_in = xn_freq[0].tolist().index(vv[0])\n",
    "                    p_in = xn_freq[2][index_in]\n",
    "                    TE_xy = TE_xy + p_in_in1_jn * np.log2(p_in_in1_jn * p_in / p_in_in1 / p_in_jn)\n",
    "                TE_matrix[i, j] = TE_xy\n",
    "\n",
    "    return TE_matrix\n",
    "\n",
    "\n",
    "def ETE_caculate(X, TE_matrix, increments=inc):\n",
    "    \n",
    "    # 최대값, 최소값, bin size\n",
    "    M = np.max(X);\n",
    "    M_ceil = np.ceil(M / increments) * increments  # 반올림\n",
    "    m = np.min(X);\n",
    "    m_floor = np.floor(m / increments) * increments  # 반내림\n",
    "    \n",
    "    # calculate RTE\n",
    "    RTE_matrix_all = np.zeros([X.shape[1], X.shape[1], n_random])\n",
    "    for nn in range(n_random):\n",
    "        # returns_shuffle = np.array(X).T.tolist()\n",
    "        # random.shuffle(returns_shuffle)\n",
    "        # returns_shuffle = np.array(returns_shuffle).T.tolist()\n",
    "        RTE_matrix = np.zeros((X.shape[1], X.shape[1]))\n",
    "        for i in range(X.shape[1]):\n",
    "            for j in range(X.shape[1]):\n",
    "                if i==j:\n",
    "                    continue\n",
    "                else:\n",
    "                    xn1 = [r[j] for r in X][1:]\n",
    "                    xn = [r[j] for r in X][:-1]\n",
    "                    yn = [r[i] for r in X][:-1]\n",
    "                    # binning\n",
    "                    xn1_bin = value_to_bin(xn1, m_floor, M_ceil, increments)\n",
    "                    xn_bin = value_to_bin(xn, m_floor, M_ceil, increments)\n",
    "                    yn_bin = value_to_bin(yn, m_floor, M_ceil, increments)\n",
    "                    np.random.shuffle(yn_bin)\n",
    "    \n",
    "                    # bin freq\n",
    "                    xn_freq = list(np.unique(np.array(xn_bin), return_counts=True))\n",
    "                    xn_freq.append(xn_freq[1]/sum(xn_freq[1]))\n",
    "                    xn_xn1_freq = list(np.unique(np.array([xn_bin, xn1_bin]).T, return_counts=True, axis=0))\n",
    "                    xn_xn1_freq.append(xn_xn1_freq[1]/sum(xn_xn1_freq[1]))\n",
    "                    xn_yn_freq = list(np.unique(np.array([xn_bin, yn_bin]).T, return_counts=True, axis=0))\n",
    "                    xn_yn_freq.append(xn_yn_freq[1]/sum(xn_yn_freq[1]))\n",
    "                    xn_xn1_yn_freq = list(np.unique(np.array([xn_bin, xn1_bin, yn_bin]).T, return_counts=True, axis=0))\n",
    "                    xn_xn1_yn_freq.append(xn_xn1_yn_freq[1]/sum(xn_xn1_yn_freq[1]))\n",
    "                    # calculate RTE\n",
    "                    RTE_xy = 0\n",
    "                    for ii, vv in enumerate(xn_xn1_yn_freq[0]):\n",
    "                        p_in_in1_jn = xn_xn1_yn_freq[2][ii]\n",
    "                        index_in_in1 = xn_xn1_freq[0].tolist().index(vv[:2].tolist())\n",
    "                        p_in_in1 = xn_xn1_freq[2][index_in_in1]\n",
    "                        index_in_jn = xn_yn_freq[0].tolist().index(vv[[0, 2]].tolist())\n",
    "                        p_in_jn = xn_yn_freq[2][index_in_jn]\n",
    "                        index_in = xn_freq[0].tolist().index(vv[0])\n",
    "                        p_in = xn_freq[2][index_in]\n",
    "                        RTE_xy = RTE_xy + p_in_in1_jn * np.log2(p_in_in1_jn * p_in / p_in_in1 / p_in_jn)\n",
    "                    RTE_matrix[i, j] = RTE_xy\n",
    "        RTE_matrix_all[:,:,nn] = RTE_matrix\n",
    "        # calculate ETE\n",
    "    \n",
    "    ETE_matrix = np.zeros((X.shape[1], X.shape[1]))\n",
    "    for i in range(X.shape[1]) :\n",
    "        for j in range(X.shape[1]):\n",
    "            if i == j:\n",
    "                continue\n",
    "            TE = TE_matrix[i, j]\n",
    "            rte_array = RTE_matrix_all[i, j, :]\n",
    "            if TE - np.mean(rte_array) - np.std(rte_array) / n_random ** 0.5 > 0:\n",
    "                ETE_matrix[i, j] = TE - np.mean(rte_array)\n",
    "                \n",
    "    if np.all(ETE_matrix == 0) :\n",
    "        matrix = np.full((10, 10), 0.001)\n",
    "        np.fill_diagonal(matrix, 0)\n",
    "        return matrix\n",
    "        \n",
    "    return ETE_matrix"
   ],
   "id": "5fce0f61c178faac",
   "outputs": [],
   "execution_count": 3
  },
  {
   "metadata": {
    "ExecuteTime": {
     "end_time": "2024-09-10T13:22:26.117541Z",
     "start_time": "2024-09-10T13:22:26.105530Z"
    }
   },
   "cell_type": "code",
   "source": [
    "class TENet(nn.Module):\n",
    "    def __init__(self, args, A, B, window_size):\n",
    "        super(TENet, self).__init__()\n",
    "        self.use_cuda = args.CUDA\n",
    "        self.batch_size = args.BATCH_SIZE\n",
    "        self.window_size = window_size\n",
    "\n",
    "        # A와 B 초기화\n",
    "        A = np.array(A, dtype=np.float32)\n",
    "        A = A / np.sum(A)\n",
    "        A_new = np.zeros((args.BATCH_SIZE, args.N_E, args.N_E), dtype=np.float32)\n",
    "        for i in range(args.BATCH_SIZE):\n",
    "            A_new[i, :, :] = A\n",
    "\n",
    "        self.A = torch.from_numpy(A_new).cuda() if self.use_cuda else torch.from_numpy(A_new)\n",
    "        self.adjs = [self.A]\n",
    "        self.num_adjs = args.NUM_ADJ\n",
    "        if self.num_adjs > 1:\n",
    "            A = np.array(B, dtype=np.float32)\n",
    "            A = A / np.sum(A, 1)\n",
    "            A_new = np.zeros((args.BATCH_SIZE, args.N_E, args.N_E), dtype=np.float32)\n",
    "            for i in range(args.BATCH_SIZE):\n",
    "                A_new[i, :, :] = A\n",
    "\n",
    "            self.B = torch.from_numpy(A_new).cuda() if self.use_cuda else torch.from_numpy(A_new)\n",
    "            self.C = torch.from_numpy(A_new).cuda()\n",
    "            self.adjs = [self.A,self.B,self.C]\n",
    "\n",
    "        self.n_e = args.N_E\n",
    "\n",
    "        # Conv2d 레이어\n",
    "        self.conv1=nn.Conv2d(1, args.CHANNEL_SIZE, kernel_size = (1,args.K_SIZE[0]),stride=1)\n",
    "        self.conv2=nn.Conv2d(1, args.CHANNEL_SIZE, kernel_size = (1,args.K_SIZE[1]),stride=1)\n",
    "        self.conv3=nn.Conv2d(1, args.CHANNEL_SIZE, kernel_size = (1,args.K_SIZE[2]),stride=1)\n",
    "\n",
    "\n",
    "        # Conv2d의 출력 차원 계산\n",
    "        d= (len(args.K_SIZE)*(self.window_size) -sum(args.K_SIZE)+ len(args.K_SIZE))*args.CHANNEL_SIZE\n",
    "\n",
    "        # GNN 레이어\n",
    "        self.gnn1 = DenseGraphConv(d, args.HID1)\n",
    "        self.gnn2 = DenseGraphConv(args.HID1, args.HID2)\n",
    "        self.gnn3 = DenseGraphConv(args.HID2, 1)\n",
    "\n",
    "        # Highway layer\n",
    "        self.hw = args.HIGHWAY_WINDOW\n",
    "        if self.hw > 0:\n",
    "            self.highway = nn.Linear(self.hw, 1)\n",
    "\n",
    "    def forward(self,x):\n",
    "        c=x.permute(0,2,1)\n",
    "        c=c.unsqueeze(1)\n",
    "        # if self.decoder != 'GAT':\n",
    "        a1=self.conv1(c).permute(0,2,1,3).reshape(self.batch_size,self.n_e,-1)\n",
    "        a2=self.conv2(c).permute(0,2,1,3).reshape(self.batch_size,self.n_e,-1)\n",
    "        a3=self.conv3(c).permute(0,2,1,3).reshape(self.batch_size,self.n_e,-1)\n",
    "\n",
    "        x_conv = F.relu(torch.cat([a1, a2, a3], 2))\n",
    "        # x_conv=F.relu(torch.cat([a1,a2,a3,a4,a5],2))\n",
    "        x1 = F.relu(self.gnn1(x_conv,self.A))\n",
    "        x2 = F.relu(self.gnn2(x1,self.A))\n",
    "        x3 = self.gnn3(x2,self.A)\n",
    "        x3 = x3.squeeze()\n",
    "      \n",
    "\n",
    "        if self.hw>0:\n",
    "            z = x[:, -self.hw:, :]\n",
    "            z = z.permute(0, 2, 1)\n",
    "            z = self.highway(z)\n",
    "            z = z.squeeze(2)\n",
    "            x3 = x3 + z\n",
    "        return x3\n",
    "\n"
   ],
   "id": "8eb14fa0aa344437",
   "outputs": [],
   "execution_count": 4
  },
  {
   "metadata": {
    "ExecuteTime": {
     "end_time": "2024-09-10T13:22:52.255359Z",
     "start_time": "2024-09-10T13:22:27.214055Z"
    }
   },
   "cell_type": "code",
   "source": [
    "# CSV 파일에서 데이터 읽어오기 (파일명과 경로를 지정하세요)\n",
    "file_path = 'data/df_world.csv'  # 실제 CSV 파일 경로로 수정하세요.\n",
    "df = pd.read_csv(file_path, parse_dates=['Date'], index_col='Date')\n",
    "\n",
    "# 로그 리턴 계산\n",
    "df['Log_Return'] = np.log(df['Close'] / df['Close'].shift(1))\n",
    "\n",
    "# Hurst exponent를 계산할 창(window)의 크기 설정 (252 거래일 = 1년)\n",
    "window_size = 250\n",
    "\n",
    "# Hurst exponent를 저장할 리스트\n",
    "hurst_series = []\n",
    "\n",
    "# 날짜를 저장할 리스트\n",
    "dates_series = []\n",
    "\n",
    "# 슬라이딩 윈도우를 통해 Hurst exponent 계산\n",
    "for i in range(window_size, len(df)):\n",
    "    window_data = df['Log_Return'].iloc[i-window_size:i].dropna()\n",
    "    H, _, _ = compute_Hc(window_data, kind='change', simplified=True)\n",
    "    hurst_series.append(H)\n",
    "    dates_series.append(df.index[i])\n",
    "\n",
    "# 결과를 시계열 데이터로 변환\n",
    "hurst_df = pd.DataFrame(data={'Hurst': hurst_series}, index=dates_series)\n",
    "\n",
    "# 서브플롯을 설정\n",
    "fig, axs = plt.subplots(2, 1, figsize=(12, 8), sharex=True)\n",
    "\n",
    "# 색상 변경 시점 추적을 위한 변수\n",
    "prev_color = 'blue'\n",
    "color_changes = []\n",
    "num_prev_colors = 7\n",
    "\n",
    "# 색상 변경 점선 없는 서브플롯\n",
    "for i in range(10, len(hurst_df)):\n",
    "    recent_10_days = hurst_df['Hurst'].iloc[i-10:i]\n",
    "    \n",
    "    count_above_55 = (recent_10_days >= 0.55).sum()\n",
    "    count_between_45_and_55 = ((recent_10_days < 0.55) & (recent_10_days >= 0.45)).sum()\n",
    "    count_below_45 = (recent_10_days < 0.45).sum()\n",
    "    \n",
    "    if count_above_55 >= num_prev_colors:\n",
    "        color = 'red'\n",
    "    elif count_between_45_and_55 >= num_prev_colors:\n",
    "        color = 'blue'\n",
    "    elif count_below_45 >= num_prev_colors:\n",
    "        color = 'green'\n",
    "    else:\n",
    "        color = prev_color\n",
    "    \n",
    "    axs[0].plot(hurst_df.index[i-1:i+1], hurst_df['Hurst'].iloc[i-1:i+1], color=color)\n",
    "    \n",
    "    # 색상 변경 시점 기록\n",
    "    if color != prev_color:\n",
    "        color_changes.append(hurst_df.index[i])\n",
    "        prev_color = color\n",
    "\n",
    "# 색상 변경 점선 있는 서브플롯\n",
    "prev_color = 'blue'\n",
    "for i in tqdm(range(10, len(hurst_df))):\n",
    "    recent_10_days = hurst_df['Hurst'].iloc[i-10:i]\n",
    "    \n",
    "    count_above_55 = (recent_10_days >= 0.55).sum()\n",
    "    count_between_45_and_55 = ((recent_10_days < 0.55) & (recent_10_days >= 0.45)).sum()\n",
    "    count_below_45 = (recent_10_days < 0.45).sum()\n",
    "    \n",
    "    if count_above_55 >= num_prev_colors:\n",
    "        color = 'red'\n",
    "    elif count_between_45_and_55 >= num_prev_colors:\n",
    "        color = 'blue'\n",
    "    elif count_below_45 >= num_prev_colors:\n",
    "        color = 'green'\n",
    "    else:\n",
    "        color = prev_color\n",
    "    \n",
    "    axs[1].plot(hurst_df.index[i-1:i+1], hurst_df['Hurst'].iloc[i-1:i+1], color=color)\n",
    "    \n",
    "    # 색상 변경 시점에 점선 추가\n",
    "    if color != prev_color:\n",
    "        axs[1].axvline(hurst_df.index[i], color='black', linestyle='--', linewidth=1)\n",
    "        prev_color = color\n",
    "\n",
    "# 기준선 추가\n",
    "for ax in axs:\n",
    "    ax.axhline(0.5, color='black', linestyle='--', label='H = 0.5 (Random Walk)')\n",
    "    ax.axhline(0.55, color='red', linestyle='--', label='H = 0.55 (Trending Threshold)')\n",
    "    ax.axhline(0.45, color='green', linestyle='--', label='H = 0.45 (Mean-Reverting Threshold)')\n",
    "    ax.set_xlabel('Date')\n",
    "    ax.set_ylabel('Hurst Exponent')\n",
    "    ax.legend()\n",
    "\n",
    "# 서브플롯 제목\n",
    "axs[0].set_title('Hurst Exponent Over Time (No Change Points)')\n",
    "axs[1].set_title('Hurst Exponent Over Time (With Change Points)')\n",
    "\n",
    "# 그래프 설정\n",
    "plt.tight_layout()\n",
    "plt.show()"
   ],
   "id": "82c7adcdc58b8745",
   "outputs": [
    {
     "name": "stderr",
     "output_type": "stream",
     "text": [
      "100%|██████████| 5103/5103 [00:03<00:00, 1514.98it/s]\n"
     ]
    },
    {
     "data": {
      "text/plain": [
       "<Figure size 1200x800 with 2 Axes>"
      ],
      "image/png": "[encoded data removed]"
     },
     "metadata": {},
     "output_type": "display_data"
    }
   ],
   "execution_count": 5
  },
  {
   "metadata": {
    "ExecuteTime": {
     "end_time": "2024-09-10T13:22:52.270364Z",
     "start_time": "2024-09-10T13:22:52.256360Z"
    }
   },
   "cell_type": "code",
   "source": [
    "# 날짜만 추출하여 문자열 리스트로 변환\n",
    "color_changes = [ts.date().strftime('%Y-%m-%d') for ts in color_changes]\n"
   ],
   "id": "5549828e8319f4b8",
   "outputs": [],
   "execution_count": 6
  },
  {
   "metadata": {},
   "cell_type": "code",
   "outputs": [],
   "execution_count": null,
   "source": [
    "class WindowedDataset(Dataset):\n",
    "    def __init__(self, data, data_y, window_size, horizon, scaler_x, scaler_y):\n",
    "        self.data = data\n",
    "        self.data_y = data_y\n",
    "        self.window_size = window_size\n",
    "        self.horizon = horizon\n",
    "        self.scaler_x = scaler_x\n",
    "        self.scaler_y = scaler_y\n",
    "    \n",
    "    def __len__(self):\n",
    "        return len(self.data) - self.window_size - self.horizon + 1\n",
    "    \n",
    "    def __getitem__(self, idx):\n",
    "        # 데이터 슬라이스 추출\n",
    "        window_data = self.data[idx:idx + self.window_size]\n",
    "        label = self.data_y[idx]\n",
    "\n",
    "        # 스케일링 (사전에 학습된 스케일러 사용)\n",
    "        window_scaled = self.scaler_x.transform(window_data)\n",
    "        \n",
    "        # 1차원 배열을 2차원 배열로 변환\n",
    "        label_scaled = self.scaler_y.transform(np.array([label]))\n",
    "        \n",
    "        return torch.tensor(window_scaled, dtype=torch.float32), torch.tensor(label_scaled.flatten(), dtype=torch.float32)"
   ],
   "id": "495ba71ffac5a795"
  },
  {
   "metadata": {
    "ExecuteTime": {
     "end_time": "2024-09-10T13:28:01.595800Z",
     "start_time": "2024-09-10T13:28:01.569289Z"
    }
   },
   "cell_type": "code",
   "source": [
    "class ModelManager:\n",
    "    def __init__(self, config, data, window_size, threshold, Effective, training_period):\n",
    "        self.config = config\n",
    "        self.window_size = window_size\n",
    "        self.raw_data = data\n",
    "        self.data_np = np.array(data.iloc[:, 1:])\n",
    "        self.data_y = self.calculate_realized_volatility(self.data_np, self.window_size)  # 실현 변동성 계산\n",
    "        self.training_period = training_period\n",
    "        self.threshold = threshold\n",
    "        self.Effective = Effective\n",
    "        self.device = torch.device(config.DEVICE)\n",
    "        self.model = None\n",
    "        self.criterion = nn.MSELoss().to(self.device)\n",
    "        self.optimizer = None\n",
    "        self.A = None\n",
    "        self.B = None\n",
    "        self.results = []\n",
    "        self.scaler_x = MinMaxScaler(feature_range=(0, 1))\n",
    "        self.scaler_y = MinMaxScaler(feature_range=(0, 1))\n",
    "\n",
    "        self.save_dir = None\n",
    "\n",
    "        self.test_total_loss_list = []\n",
    "        self.test_each_loss_list = []  # test_each_loss_list 초기화\n",
    "        self.predictions = []  # 예측 값을 저장할 리스트\n",
    "        self.actuals = []  # 실제 값을 저장할 리스트\n",
    "\n",
    "        \n",
    "    def calculate_realized_volatility(self, data, window):\n",
    "        realized_vols = []\n",
    "        for i in range(20, len(data)):\n",
    "            window_data = data[i-20:i]  # 30일치 데이터 슬라이스\n",
    "            window_data = 100 * window_data\n",
    "            squared_returns = np.square(window_data)  # 제곱\n",
    "            realized_vol = np.sqrt(np.mean(squared_returns, axis=0))  # 평균 계산 후 제곱근\n",
    "            realized_vols.append(realized_vol)\n",
    "        result = realized_vols[window-20:]\n",
    "        return np.array(result)\n",
    "\n",
    "    def load_model(self, A, B, window_size):\n",
    "        torch.cuda.empty_cache()\n",
    "        return TENet(CONFIG, A, B, window_size).to(self.device)  # GNN 모델 생성\n",
    "\n",
    "    def calculate_TE(self, data, Effective):\n",
    "        if Effective:\n",
    "            TE_matrix = TE_caculate(data)\n",
    "            ETE_matrix = ETE_caculate(data, TE_matrix)\n",
    "            return ETE_matrix\n",
    "        else:\n",
    "            TE_matrix = TE_caculate(data)\n",
    "            return TE_matrix\n",
    "\n",
    "    def update_A_B(self, matrix):\n",
    "        self.A = matrix\n",
    "        self.B = matrix\n",
    "\n",
    "    def calculate_hurst(self, data):\n",
    "        hurst_value = compute_Hc(data)[0]\n",
    "        return hurst_value\n",
    "\n",
    "    \n",
    "    def train_and_evaluate(self):\n",
    "        initial_data_x = self.data_np[:self.training_period]\n",
    "        initial_data_y = self.data_y[:self.training_period-self.window_size]\n",
    "        \n",
    "        print(\"initial_data_x and y\", initial_data_x.shape, initial_data_y.shape)\n",
    "        te_matrix = self.calculate_TE(initial_data_x, self.Effective)\n",
    "        self.model = self.load_model(te_matrix, te_matrix, self.window_size)\n",
    "        self.optimizer = torch.optim.Adam(self.model.parameters(), lr=self.config.LR)\n",
    "        \n",
    "        self.train_model(initial_data_x, initial_data_y)\n",
    "        \n",
    "        \n",
    "        num_change = 0\n",
    "        \n",
    "        for day in tqdm(range(self.training_period, len(self.data_np) - self.window_size)):\n",
    "            start_idx = max(0, day - self.training_period)\n",
    "            \n",
    "            \n",
    "            # 국면 전환 시점 확인\n",
    "            current_date = self.raw_data['Date'].iloc[day]\n",
    "\n",
    "            if current_date in color_changes:  # 국면 전환 시점에서 모델 재학습\n",
    "                TV_data_x = self.data_np[start_idx:day]\n",
    "                TV_data_y = self.data_y[start_idx:day-self.window_size]\n",
    "                # 새로운 국면에서 TE 재계산 및 GNN 재학습\n",
    "                te_matrix = self.calculate_TE(TV_data_x, self.Effective)\n",
    "                self.model = self.load_model(te_matrix, te_matrix, self.window_size)\n",
    "                self.optimizer = torch.optim.Adam(self.model.parameters(), lr=self.config.LR)\n",
    "                \n",
    "                self.train_model(TV_data_x, TV_data_y)\n",
    "                print(\"Retrain shape : \", TV_data_x.shape, TV_data_y.shape)\n",
    "                print(f\"Change on day {current_date}.\")\n",
    "                num_change += 1\n",
    "\n",
    "            \n",
    "            # 매일 실현 변동성 예측 및 손실 계산\n",
    "            test_x = self.data_np[day:day + self.window_size]\n",
    "            test_y = self.data_y[day].reshape(1, -1)  # test_y는 2차원으로 reshape\n",
    "            \n",
    "            # 스케일링\n",
    "            scaled_test_x = self.scaler_x.transform(test_x)\n",
    "            scaled_test_y = self.scaler_y.transform(test_y)\n",
    "            \n",
    "            # 배치 크기만큼 복사하여 데이터 확장\n",
    "            batch_size = self.config.BATCH_SIZE  # 사용할 배치 크기\n",
    "            scaled_test_x = np.tile(scaled_test_x, (batch_size, 1, 1))  # (batch_size, window_size, features)\n",
    "            scaled_test_y = np.tile(scaled_test_y, (batch_size, 1))     # (batch_size, features)\n",
    "  \n",
    "            # 예측 및 평가\n",
    "            self.model.eval()\n",
    "            with torch.no_grad():\n",
    "                # 입력 데이터를 텐서로 변환\n",
    "                test_x_tensor = torch.tensor(scaled_test_x, dtype=torch.float32).to(self.device)\n",
    "                test_y_tensor = torch.tensor(scaled_test_y, dtype=torch.float32).to(self.device)\n",
    "            \n",
    "                # 모델 예측\n",
    "                predictions = self.model(test_x_tensor)\n",
    "                # 손실 계산 (배치 내 손실의 평균)\n",
    "                loss = self.criterion(predictions, test_y_tensor)\n",
    "            \n",
    "                # 결과 저장\n",
    "                self.test_total_loss_list.append(loss.item())\n",
    "            \n",
    "            pred = self.scaler_y.inverse_transform(predictions.cpu().detach().numpy())\n",
    "            self.predictions.append(pred[0])\n",
    "            self.actuals.append(test_y)\n",
    "            \n",
    "        print(\"Number of chage : \", num_change)\n",
    "\n",
    "    def train_model(self, x, y):\n",
    "        self.model.train()  # Set the model to training mode\n",
    "        \n",
    "        train_split = int(self.training_period * 0.7)\n",
    "        train_x = x[:train_split]\n",
    "        val_x = x[train_split:]\n",
    "        train_y = y[:train_split]\n",
    "        val_y = y[train_split:]\n",
    "        \n",
    "        self.scaler_x.fit(train_x)\n",
    "        self.scaler_y.fit(train_y)\n",
    "        \n",
    "        # 학습 데이터, 검증 데이터 준비\n",
    "        train_loader = DataLoader(WindowedDataset(train_x, train_y, self.window_size, self.config.HORIZON, self.scaler_x, self.scaler_y), batch_size=self.config.BATCH_SIZE, shuffle=True, drop_last=True)\n",
    "        val_loader = DataLoader(WindowedDataset(val_x, val_y, self.window_size, self.config.HORIZON, self.scaler_x, self.scaler_y), batch_size=self.config.BATCH_SIZE, shuffle=False, drop_last=True)\n",
    "        \n",
    "        best_val_loss = float('inf')\n",
    "        best_model_state = None\n",
    "    \n",
    "        for epoch in range(self.config.EPOCHS):\n",
    "            train_total_loss, _ = self.train_epoch(train_loader)\n",
    "            val_total_loss, _ = self.evaluate_epoch(val_loader)            \n",
    "\n",
    "            # validation loss가 최저일 때 모델을 저장\n",
    "            if val_total_loss < best_val_loss:\n",
    "                best_val_loss = val_total_loss\n",
    "                best_model_state = self.model.state_dict()  # 모델의 가중치 저장\n",
    "        \n",
    "        self.model.load_state_dict(best_model_state)\n",
    "\n",
    "\n",
    "    def train_epoch(self, train_loader):\n",
    "        total_loss = 0\n",
    "        each_loss = torch.zeros(self.data_np.shape[1]).to(self.device)  # 각 ETF에 대한 손실 초기화\n",
    "        n_samples = 0\n",
    "        \n",
    "        for x, y in train_loader:\n",
    "            x, y = x.to(self.device), y.to(self.device)\n",
    "            self.optimizer.zero_grad()\n",
    "            predictions = self.model(x)\n",
    "            loss = self.criterion(predictions, y)\n",
    "            loss.backward()\n",
    "            self.optimizer.step()\n",
    "    \n",
    "            batch_size = x.size(0)\n",
    "            total_loss += loss.item() * batch_size  # 배치의 총 손실을 샘플 수로 가중치 더함\n",
    "            n_samples += batch_size\n",
    "    \n",
    "            # 각 ETF별 손실 합산\n",
    "            for i in range(self.data_np.shape[1]):\n",
    "                each_loss[i] += self.criterion(predictions[:, i:i + 1], y[:, i:i + 1]).item() * batch_size\n",
    "    \n",
    "        mse = each_loss / n_samples  # ETF별 평균 손실 계산\n",
    "        total_loss = mse.mean().item()  # 전체 평균 손실 계산\n",
    "    \n",
    "        return total_loss, mse.cpu().numpy()\n",
    "\n",
    "    def evaluate_epoch(self, loader):\n",
    "        self.model.eval()\n",
    "        total_loss = 0\n",
    "        each_loss = torch.zeros(self.data_np.shape[1]).to(self.device)\n",
    "        n_samples = 0  # 전체 샘플 수\n",
    "    \n",
    "        with torch.no_grad():\n",
    "            for x, y in loader:\n",
    "                x, y = x.to(self.device), y.to(self.device)\n",
    "                predictions = self.model(x)\n",
    "                loss = self.criterion(predictions, y)\n",
    "                \n",
    "                batch_size = x.size(0)\n",
    "                total_loss += loss.item() * batch_size  # 배치의 총 손실을 샘플 수로 가중치 더함\n",
    "                n_samples += batch_size\n",
    "    \n",
    "                # 각 ETF별 손실 합산\n",
    "                for i in range(self.data_np.shape[1]):\n",
    "                    each_loss[i] += self.criterion(predictions[:, i:i + 1], y[:, i:i + 1]).item() * batch_size\n",
    "    \n",
    "        mse = each_loss / n_samples  # ETF별 평균 손실 계산\n",
    "        total_loss = mse.mean().item()  # 전체 평균 손실 계산\n",
    "    \n",
    "        return total_loss, mse.cpu().numpy()\n",
    "\n",
    "\n",
    "    def create_save_directory(self):\n",
    "        # 현재 날짜와 시간을 기반으로 폴더 이름 생성\n",
    "        now = datetime.now().strftime('%Y%m%d_%H%M%S')\n",
    "        folder_name = f\"{self.Effective}_{self.window_size}_{self.training_period}_{now}\"\n",
    "        save_dir = os.path.join(os.getcwd(), folder_name)\n",
    "\n",
    "        if not os.path.exists(save_dir):\n",
    "            os.makedirs(save_dir)\n",
    "\n",
    "        self.save_dir = save_dir\n",
    "        print(f\"Results will be saved in: {save_dir}\")\n",
    "\n",
    "\n",
    "    def plot_results(self):\n",
    "        if self.save_dir is None:\n",
    "            self.create_save_directory()\n",
    "    \n",
    "        # 평가된 날짜(기간)을 저장하는 리스트를 생성\n",
    "        periods = pd.to_datetime(self.raw_data['Date'].iloc[self.training_period:self.training_period + len(self.test_total_loss_list)])\n",
    "    \n",
    "        # 서브플롯 설정: (2, 1) 형태로 두 개의 서브플롯을 가짐\n",
    "        fig, axs = plt.subplots(2, 1, figsize=(14, 10))  # 위아래로 서브플롯 배치\n",
    "        \n",
    "        # 배경색을 흰색으로 설정\n",
    "        fig.patch.set_facecolor('white')\n",
    "        for ax in axs:\n",
    "            ax.set_facecolor('white')\n",
    "    \n",
    "        # 1. 점선 없는 순수한 손실 곡선 플롯 (상단 서브플롯)\n",
    "        axs[0].plot(periods, self.test_total_loss_list, label='Test Loss')\n",
    "        axs[0].set_title('Total Loss Over Time (No Change Points)')\n",
    "        axs[0].set_xlabel('Date')\n",
    "        axs[0].set_ylabel('Loss')\n",
    "        axs[0].legend()\n",
    "        axs[0].grid(True)\n",
    "    \n",
    "        # 2. 점선과 함께 색상 변경이 적용된 손실 곡선 플롯 (하단 서브플롯)\n",
    "        axs[1].plot(periods, self.test_total_loss_list, label='Test Loss')\n",
    "        for idx in color_changes:\n",
    "            axs[1].axvline(x=pd.to_datetime(idx), color='red', linestyle='--', label='TENet Update' if idx == color_changes[0] else \"\")\n",
    "        axs[1].set_title('Total Loss Over Time (With Change Points)')\n",
    "        axs[1].set_xlabel('Date')\n",
    "        axs[1].set_ylabel('Loss')\n",
    "        axs[1].legend()\n",
    "        axs[1].grid(True)\n",
    "    \n",
    "        # X축의 날짜 간격을 조정 (간격을 줄여서 보기 쉽게)\n",
    "        for ax in axs:\n",
    "            ax.xaxis.set_major_locator(mdates.AutoDateLocator())  # 날짜 간격 자동 설정\n",
    "            ax.xaxis.set_major_formatter(mdates.DateFormatter('%Y-%m-%d'))  # 날짜 형식 설정\n",
    "            ax.tick_params(axis='x', rotation=45)  # X축 라벨 회전\n",
    "    \n",
    "        # 서브플롯 간의 간격을 자동으로 조정\n",
    "        plt.tight_layout()\n",
    "    \n",
    "        # 서브플롯을 하나의 이미지로 저장\n",
    "        plt.savefig(os.path.join(self.save_dir, 'total_loss_subplots.png'))\n",
    "        plt.close(fig)  # 메모리 절약을 위해 그림 닫기\n",
    "    \n",
    "        # 예측값과 실제값의 비교 그래프를 저장\n",
    "        predictions = np.array(self.predictions).reshape(-1, self.data_np.shape[1])\n",
    "        actuals = np.array(self.actuals).reshape(-1, self.data_np.shape[1])\n",
    "    \n",
    "    \n",
    "        # 각 주식별 예측과 실제 값을 플롯\n",
    "        num_stocks = self.raw_data.shape[1] - 1  # 'Date' 컬럼을 제외한 주식 수 계산\n",
    "    \n",
    "        for stock_idx in range(num_stocks):\n",
    "            plt.figure(figsize=(14, 7))\n",
    "            plt.plot(periods, actuals[:, stock_idx], label='Actual')\n",
    "            plt.plot(periods, predictions[:, stock_idx], label='Predicted')\n",
    "    \n",
    "            plt.title(f'ETF {stock_idx + 1} Actual vs Predicted Volatility')\n",
    "            plt.xlabel('Date')\n",
    "            plt.ylabel('Volatility')\n",
    "            plt.legend()\n",
    "            plt.grid(True)\n",
    "    \n",
    "            # X축의 날짜 간격을 조정 (간격을 줄여서 보기 쉽게)\n",
    "            plt.gca().xaxis.set_major_locator(mdates.AutoDateLocator())\n",
    "            plt.gca().xaxis.set_major_formatter(mdates.DateFormatter('%Y-%m-%d'))\n",
    "            plt.gca().tick_params(axis='x', rotation=45)\n",
    "    \n",
    "            plt.tight_layout()\n",
    "            plt.savefig(os.path.join(self.save_dir, f'ETF_{stock_idx + 1}_prediction_vs_actual.png'))\n",
    "            plt.close()  # 메모리 절약을 위해 그림 닫기\n",
    "\n",
    "\n",
    "    def save_results_to_excel(self):\n",
    "        if self.save_dir is None:\n",
    "            self.create_save_directory()\n",
    "            \n",
    "        periods = pd.to_datetime(self.raw_data['Date'].iloc[self.training_period:self.training_period + len(self.test_total_loss_list)])\n",
    "        filename = os.path.join(self.save_dir, f'Results_{self.threshold}.xlsx')\n",
    "        with pd.ExcelWriter(filename) as writer:\n",
    "            # Losses\n",
    "            pd.DataFrame(self.test_total_loss_list, columns=['Test Loss'], index=periods).to_excel(writer, sheet_name='Test Loss')\n",
    "    \n",
    "            # # ETF별 손실 저장\n",
    "            # num_stocks = self.data_np.shape[1]  # ETF 개수 (첫 번째 기간에서의 ETF 수를 기준으로 결정)\n",
    "            # periods = range(1, len(self.test_each_loss_list) + 1)  # 기간은 1부터 시작\n",
    "            # \n",
    "            # # 주식별 손실 저장\n",
    "            # for stock_idx in range(num_stocks):\n",
    "            #     df = pd.DataFrame({\n",
    "            #         'Period': periods,\n",
    "            #         'Test Loss': [epoch_loss[stock_idx] for epoch_loss in self.test_each_loss_list]\n",
    "            #     })\n",
    "            #     df.to_excel(writer, sheet_name=f'ETF {stock_idx+1} Loss', index=False)\n",
    "\n",
    "                \n",
    "\n",
    "\n",
    "# logR_df = pd.read_csv('data/log_df_etf10.csv')\n",
    "# \n",
    "# \n",
    "# manager = ModelManager(CONFIG, logR_df, window_size=60, training_period=250, threshold=None, Effective=False)\n",
    "# \n",
    "# # 학습 및 평가\n",
    "# manager.train_and_evaluate()  # Example sizes in days\n",
    "# \n",
    "# # 결과 플롯 및 저장\n",
    "# manager.plot_results()\n",
    "# manager.save_results_to_excel()\n"
   ],
   "id": "713b8199e8b3da5",
   "outputs": [],
   "execution_count": 10
  },
  {
   "metadata": {
    "ExecuteTime": {
     "end_time": "2024-08-30T01:34:58.706914Z",
     "start_time": "2024-08-30T01:34:58.693402Z"
    }
   },
   "cell_type": "code",
   "source": "periods = pd.to_datetime(logR_df['Date'].iloc[250:-30])",
   "id": "7a3d658a7eceb7ca",
   "outputs": [],
   "execution_count": 23
  },
  {
   "metadata": {
    "ExecuteTime": {
     "end_time": "2024-08-30T02:54:54.304092Z",
     "start_time": "2024-08-30T02:54:54.252534Z"
    }
   },
   "cell_type": "code",
   "source": "pl1 = pd.read_excel('C:/Users/sangheon/Desktop/Hurst_TE_RealizedVol/False_30_250_20240829_150204/Results_None.xlsx')\n",
   "id": "4ec60a3e39216006",
   "outputs": [],
   "execution_count": 76
  },
  {
   "metadata": {
    "ExecuteTime": {
     "end_time": "2024-08-30T02:54:54.593284Z",
     "start_time": "2024-08-30T02:54:54.539763Z"
    }
   },
   "cell_type": "code",
   "source": "pl2 = pd.read_excel('C:/Users/sangheon/Desktop/Hurst_TE_RealizedVol/True_30_250_20240830_102310/Results_None.xlsx')",
   "id": "f5308b6ae350c12c",
   "outputs": [],
   "execution_count": 77
  },
  {
   "metadata": {
    "ExecuteTime": {
     "end_time": "2024-08-30T02:54:58.511901Z",
     "start_time": "2024-08-30T02:54:58.499902Z"
    }
   },
   "cell_type": "code",
   "source": "pl2.index = periods",
   "id": "71ab5de88dcb41bb",
   "outputs": [],
   "execution_count": 79
  },
  {
   "metadata": {
    "ExecuteTime": {
     "end_time": "2024-08-30T02:55:08.743934Z",
     "start_time": "2024-08-30T02:55:08.727036Z"
    }
   },
   "cell_type": "code",
   "source": "pl2.to_csv('ETE_losses.csv')",
   "id": "9aaa3bfaff8462a7",
   "outputs": [],
   "execution_count": 81
  },
  {
   "metadata": {},
   "cell_type": "markdown",
   "source": "",
   "id": "94650ca1c4412504"
  },
  {
   "metadata": {
    "ExecuteTime": {
     "end_time": "2024-09-10T12:41:35.282888Z",
     "start_time": "2024-09-10T12:41:35.061488Z"
    }
   },
   "cell_type": "code",
   "source": [
    "# 서브플롯 생성\n",
    "fig, ax = plt.subplots(2, 1, figsize=(10, 8))\n",
    "\n",
    "# 첫 번째 서브플롯 (pl1 데이터 시각화)\n",
    "ax[0].plot(periods[l:], pl1['Test Loss'][l:], label='TE')\n",
    "ax[0].set_title('TE')\n",
    "ax[0].set_xlabel('Date')\n",
    "ax[0].set_ylabel('Loss')\n",
    "ax[0].legend()\n",
    "\n",
    "# 두 번째 서브플롯 (pl2 데이터 시각화)\n",
    "ax[1].plot(periods[l:], pl2['Test Loss'][l:], label='ETE')\n",
    "ax[1].set_title('ETE')\n",
    "ax[1].set_xlabel('Date')\n",
    "ax[1].set_ylabel('Loss')\n",
    "ax[1].legend()\n",
    "\n",
    "# 그래프 사이 간격 조정\n",
    "plt.tight_layout()\n",
    "plt.savefig('TE&ETEto2024.png')\n",
    "# 그래프 표시\n",
    "plt.show()"
   ],
   "id": "34f50b00c040f8d2",
   "outputs": [
    {
     "ename": "NameError",
     "evalue": "name 'periods' is not defined",
     "output_type": "error",
     "traceback": [
      "\u001B[1;31m---------------------------------------------------------------------------\u001B[0m",
      "\u001B[1;31mNameError\u001B[0m                                 Traceback (most recent call last)",
      "Cell \u001B[1;32mIn[10], line 5\u001B[0m\n\u001B[0;32m      2\u001B[0m fig, ax \u001B[38;5;241m=\u001B[39m plt\u001B[38;5;241m.\u001B[39msubplots(\u001B[38;5;241m2\u001B[39m, \u001B[38;5;241m1\u001B[39m, figsize\u001B[38;5;241m=\u001B[39m(\u001B[38;5;241m10\u001B[39m, \u001B[38;5;241m8\u001B[39m))\n\u001B[0;32m      4\u001B[0m \u001B[38;5;66;03m# 첫 번째 서브플롯 (pl1 데이터 시각화)\u001B[39;00m\n\u001B[1;32m----> 5\u001B[0m ax[\u001B[38;5;241m0\u001B[39m]\u001B[38;5;241m.\u001B[39mplot(\u001B[43mperiods\u001B[49m[l:], pl1[\u001B[38;5;124m'\u001B[39m\u001B[38;5;124mTest Loss\u001B[39m\u001B[38;5;124m'\u001B[39m][l:], label\u001B[38;5;241m=\u001B[39m\u001B[38;5;124m'\u001B[39m\u001B[38;5;124mTE\u001B[39m\u001B[38;5;124m'\u001B[39m)\n\u001B[0;32m      6\u001B[0m ax[\u001B[38;5;241m0\u001B[39m]\u001B[38;5;241m.\u001B[39mset_title(\u001B[38;5;124m'\u001B[39m\u001B[38;5;124mTE\u001B[39m\u001B[38;5;124m'\u001B[39m)\n\u001B[0;32m      7\u001B[0m ax[\u001B[38;5;241m0\u001B[39m]\u001B[38;5;241m.\u001B[39mset_xlabel(\u001B[38;5;124m'\u001B[39m\u001B[38;5;124mDate\u001B[39m\u001B[38;5;124m'\u001B[39m)\n",
      "\u001B[1;31mNameError\u001B[0m: name 'periods' is not defined"
     ]
    },
    {
     "data": {
      "text/plain": [
       "<Figure size 1000x800 with 2 Axes>"
      ],
      "image/png": "[encoded data removed]"
     },
     "metadata": {},
     "output_type": "display_data"
    }
   ],
   "execution_count": 10
  },
  {
   "metadata": {
    "ExecuteTime": {
     "end_time": "2024-09-10T13:28:04.397073Z",
     "start_time": "2024-09-10T13:28:04.392073Z"
    }
   },
   "cell_type": "code",
   "source": [
    "class Config:\n",
    "    # Data parameters\n",
    "    N_E = 10\n",
    "    MODEL = 'TENet'\n",
    "    K_SIZE = [3, 5, 7]\n",
    "    DECODER = 'GNN'\n",
    "    HORIZON = 1\n",
    "    NUM_ADJ = 1\n",
    "    HIGHWAY_WINDOW = 0\n",
    "    \n",
    "    EPOCHS = 100\n",
    "    BATCH_SIZE = 32\n",
    "    \n",
    "    \n",
    "    SKIP_MODE = \"none\"\n",
    "    ATTENTION_MODE = \"naive\"\n",
    "    CHANNEL_SIZE = 12\n",
    "    HID1 = 20\n",
    "    HID2 = 30\n",
    "    HIDRNN = 100\n",
    "    RNN_LAYERS = 1\n",
    "    HIDCNN = 12\n",
    "    CNN_KERNEL = 6\n",
    "    N_HEAD = 8\n",
    "    D_K = 64\n",
    "    D_V = 64\n",
    "    SEED = 54321\n",
    "    \n",
    "    GPU = 0\n",
    "    \n",
    "    LOG_INTERVAL = 2000\n",
    "    SAVE = 'model/model.pt'\n",
    "    CUDA = True\n",
    "    OPTIM = 'adam'\n",
    "    LR = 0.001\n",
    "    L1LOSS = False\n",
    "    SKIP = 24\n",
    "    HIDSKIP = 10\n",
    "    NORMALIZE = 1\n",
    "    OUTPUT_FUN = 'Linear'\n",
    "    \n",
    "    DEVICE = 'cuda:0'\n",
    "    \n",
    "    GCN_TRUE = True\n",
    "    BUILDA_TRUE = True\n",
    "    GCN_DEPTH = 2\n",
    "    NUM_NODES = 8\n",
    "    DROPOUT = 0.2\n",
    "    SUBGRAPH_SIZE = 4\n",
    "    NODE_DIM = 40\n",
    "    DILATION_EXPONENTIAL = 2\n",
    "    CONV_CHANNELS = 12\n",
    "    RESIDUAL_CHANNELS = 12\n",
    "    SKIP_CHANNELS = 32\n",
    "    END_CHANNELS = 64\n",
    "    IN_DIM = 1\n",
    "    SEQ_IN_LEN = 32\n",
    "    SEQ_OUT_LEN = 1\n",
    "    LAYERS = 5\n",
    "    WEIGHT_DECAY = 0.00001\n",
    "    CLIP = 10\n",
    "    PROPALPHA = 0.05\n",
    "    TANHALPHA = 3\n",
    "    NUM_SPLIT = 1\n",
    "    STEP_SIZE = 100\n",
    "    VALIDATION_FREQ=10\n",
    "\n",
    "CONFIG = Config()\n",
    "\n",
    "\n",
    "CONFIG.CUDA = torch.cuda.is_available()\n",
    "if CONFIG.CUDA:\n",
    "    torch.cuda.set_device(CONFIG.GPU)"
   ],
   "id": "de286cef6f7b930",
   "outputs": [],
   "execution_count": 11
  },
  {
   "metadata": {
    "ExecuteTime": {
     "end_time": "2024-09-10T13:38:17.087831Z",
     "start_time": "2024-09-10T13:28:04.596623Z"
    }
   },
   "cell_type": "code",
   "source": [
    "import os\n",
    "import numpy as np\n",
    "\n",
    "logR_df = pd.read_csv('data/log_df_etf10.csv')\n",
    "\n",
    "# 실험을 위한 파라미터 값 설정\n",
    "window_sizes = [30, 60, 90]\n",
    "training_periods = [250]\n",
    "effectives = [False, True]\n",
    "\n",
    "# For문을 통해 모든 조합에 대해 실험 수행\n",
    "for training_period in tqdm(training_periods, leave=False):\n",
    "    for window_size in tqdm(window_sizes, leave=False):\n",
    "        for effective in tqdm(effectives, leave=False):\n",
    "                    # ModelManager 객체 생성\n",
    "                    manager = ModelManager(CONFIG, logR_df, window_size=window_size, training_period=training_period, threshold=None, Effective=effective)\n",
    "                    \n",
    "                    manager.train_and_evaluate()  # Example sizes in days\n",
    "                    \n",
    "                    # 결과 플롯 및 저장\n",
    "                    manager.plot_results()\n",
    "                    manager.save_results_to_excel()\n",
    "\n",
    "\n"
   ],
   "id": "c7d824187d5386a7",
   "outputs": [
    {
     "name": "stderr",
     "output_type": "stream",
     "text": [
      "  0%|          | 0/1 [00:00<?, ?it/s]\n",
      "  0%|          | 0/3 [00:00<?, ?it/s]\u001B[A\n",
      "\n",
      "  0%|          | 0/2 [00:00<?, ?it/s]\u001B[A\u001B[A"
     ]
    },
    {
     "name": "stdout",
     "output_type": "stream",
     "text": [
      "initial_data_x and y (250, 10) (220, 10)\n"
     ]
    },
    {
     "name": "stderr",
     "output_type": "stream",
     "text": [
      "\n",
      "\n",
      "\n",
      "  0%|          | 0/5082 [00:00<?, ?it/s]\u001B[A\u001B[A\u001B[A\n",
      "\n",
      "\n",
      "  0%|          | 10/5082 [00:03<32:13,  2.62it/s]\u001B[A\u001B[A\u001B[A\n",
      "\n",
      "\n",
      "  1%|▏         | 73/5082 [00:03<03:18, 25.28it/s]\u001B[A\u001B[A\u001B[A"
     ]
    },
    {
     "name": "stdout",
     "output_type": "stream",
     "text": [
      "Retrain shape :  (250, 10) (220, 10)\n",
      "Change on day 2004-02-20.\n"
     ]
    },
    {
     "name": "stderr",
     "output_type": "stream",
     "text": [
      "\n",
      "\n",
      "\n",
      "  2%|▏         | 119/5082 [00:04<01:46, 46.57it/s]\u001B[A\u001B[A\u001B[A\n",
      "\n",
      "\n",
      "  3%|▎         | 167/5082 [00:07<03:47, 21.61it/s]\u001B[A\u001B[A\u001B[A"
     ]
    },
    {
     "name": "stdout",
     "output_type": "stream",
     "text": [
      "Retrain shape :  (250, 10) (220, 10)\n",
      "Change on day 2004-10-05.\n"
     ]
    },
    {
     "name": "stderr",
     "output_type": "stream",
     "text": [
      "\n",
      "\n",
      "\n",
      "  4%|▍         | 206/5082 [00:11<05:00, 16.21it/s]\u001B[A\u001B[A\u001B[A"
     ]
    },
    {
     "name": "stdout",
     "output_type": "stream",
     "text": [
      "Retrain shape :  (250, 10) (220, 10)\n",
      "Change on day 2004-11-30.\n"
     ]
    },
    {
     "name": "stderr",
     "output_type": "stream",
     "text": [
      "\n",
      "\n",
      "\n",
      "  5%|▌         | 276/5082 [00:15<04:49, 16.61it/s]\u001B[A\u001B[A\u001B[A"
     ]
    },
    {
     "name": "stdout",
     "output_type": "stream",
     "text": [
      "Retrain shape :  (250, 10) (220, 10)\n",
      "Change on day 2005-03-11.\n"
     ]
    },
    {
     "name": "stderr",
     "output_type": "stream",
     "text": [
      "\n",
      "\n",
      "\n",
      "  7%|▋         | 351/5082 [00:19<04:24, 17.88it/s]\u001B[A\u001B[A\u001B[A"
     ]
    },
    {
     "name": "stdout",
     "output_type": "stream",
     "text": [
      "Retrain shape :  (250, 10) (220, 10)\n",
      "Change on day 2005-06-28.\n"
     ]
    },
    {
     "name": "stderr",
     "output_type": "stream",
     "text": [
      "\n",
      "\n",
      "\n",
      "  8%|▊         | 390/5082 [00:23<05:15, 14.87it/s]\u001B[A\u001B[A\u001B[A"
     ]
    },
    {
     "name": "stdout",
     "output_type": "stream",
     "text": [
      "Retrain shape :  (250, 10) (220, 10)\n",
      "Change on day 2005-08-23.\n"
     ]
    },
    {
     "name": "stderr",
     "output_type": "stream",
     "text": [
      "\n",
      "\n",
      "\n",
      "  9%|▊         | 442/5082 [00:27<05:25, 14.25it/s]\u001B[A\u001B[A\u001B[A\n",
      "\n",
      "\n",
      " 10%|▉         | 499/5082 [00:27<03:39, 20.87it/s]\u001B[A\u001B[A\u001B[A"
     ]
    },
    {
     "name": "stdout",
     "output_type": "stream",
     "text": [
      "Retrain shape :  (250, 10) (220, 10)\n",
      "Change on day 2005-11-04.\n"
     ]
    },
    {
     "name": "stderr",
     "output_type": "stream",
     "text": [
      "\n",
      "\n",
      "\n",
      " 11%|█         | 536/5082 [00:31<04:31, 16.74it/s]\u001B[A\u001B[A\u001B[A\n",
      "\n",
      "\n",
      " 12%|█▏        | 603/5082 [00:31<02:49, 26.38it/s]\u001B[A\u001B[A\u001B[A"
     ]
    },
    {
     "name": "stdout",
     "output_type": "stream",
     "text": [
      "Retrain shape :  (250, 10) (220, 10)\n",
      "Change on day 2006-03-23.\n"
     ]
    },
    {
     "name": "stderr",
     "output_type": "stream",
     "text": [
      "\n",
      "\n",
      "\n",
      " 12%|█▏        | 634/5082 [00:35<04:04, 18.17it/s]\u001B[A\u001B[A\u001B[A"
     ]
    },
    {
     "name": "stdout",
     "output_type": "stream",
     "text": [
      "Retrain shape :  (250, 10) (220, 10)\n",
      "Change on day 2006-07-20.\n"
     ]
    },
    {
     "name": "stderr",
     "output_type": "stream",
     "text": [
      "\n",
      "\n",
      "\n",
      " 13%|█▎        | 656/5082 [00:38<05:24, 13.64it/s]\u001B[A\u001B[A\u001B[A\n",
      "\n",
      "\n",
      " 14%|█▍        | 724/5082 [00:38<03:06, 23.38it/s]\u001B[A\u001B[A\u001B[A"
     ]
    },
    {
     "name": "stdout",
     "output_type": "stream",
     "text": [
      "Retrain shape :  (250, 10) (220, 10)\n",
      "Change on day 2006-08-17.\n"
     ]
    },
    {
     "name": "stderr",
     "output_type": "stream",
     "text": [
      "\n",
      "\n",
      "\n",
      " 15%|█▍        | 756/5082 [00:42<04:15, 16.92it/s]\u001B[A\u001B[A\u001B[A\n",
      "\n",
      "\n",
      " 16%|█▌        | 815/5082 [00:42<02:41, 26.38it/s]\u001B[A\u001B[A\u001B[A"
     ]
    },
    {
     "name": "stdout",
     "output_type": "stream",
     "text": [
      "Retrain shape :  (250, 10) (220, 10)\n",
      "Change on day 2007-01-26.\n"
     ]
    },
    {
     "name": "stderr",
     "output_type": "stream",
     "text": [
      "\n",
      "\n",
      "\n",
      " 17%|█▋        | 864/5082 [00:42<01:53, 37.06it/s]\u001B[A\u001B[A\u001B[A\n",
      "\n",
      "\n",
      " 18%|█▊        | 927/5082 [00:46<02:40, 25.83it/s]\u001B[A\u001B[A\u001B[A\n",
      "\n",
      "\n",
      " 20%|█▉        | 993/5082 [00:46<01:45, 38.88it/s]\u001B[A\u001B[A\u001B[A"
     ]
    },
    {
     "name": "stdout",
     "output_type": "stream",
     "text": [
      "Retrain shape :  (250, 10) (220, 10)\n",
      "Change on day 2007-10-11.\n"
     ]
    },
    {
     "name": "stderr",
     "output_type": "stream",
     "text": [
      "\n",
      "\n",
      "\n",
      " 21%|██        | 1050/5082 [00:50<02:29, 26.93it/s]\u001B[A\u001B[A\u001B[A"
     ]
    },
    {
     "name": "stdout",
     "output_type": "stream",
     "text": [
      "Retrain shape :  (250, 10) (220, 10)\n",
      "Change on day 2008-04-09.\n"
     ]
    },
    {
     "name": "stderr",
     "output_type": "stream",
     "text": [
      "\n",
      "\n",
      "\n",
      " 21%|██        | 1078/5082 [00:53<03:31, 18.97it/s]\u001B[A\u001B[A\u001B[A\n",
      "\n",
      "\n",
      " 22%|██▏       | 1140/5082 [00:53<02:16, 28.95it/s]\u001B[A\u001B[A\u001B[A"
     ]
    },
    {
     "name": "stdout",
     "output_type": "stream",
     "text": [
      "Retrain shape :  (250, 10) (220, 10)\n",
      "Change on day 2008-05-08.\n"
     ]
    },
    {
     "name": "stderr",
     "output_type": "stream",
     "text": [
      "\n",
      "\n",
      "\n",
      " 23%|██▎       | 1173/5082 [00:57<03:16, 19.93it/s]\u001B[A\u001B[A\u001B[A\n",
      "\n",
      "\n",
      " 24%|██▍       | 1243/5082 [00:57<01:59, 32.18it/s]\u001B[A\u001B[A\u001B[A"
     ]
    },
    {
     "name": "stdout",
     "output_type": "stream",
     "text": [
      "Retrain shape :  (250, 10) (220, 10)\n",
      "Change on day 2008-09-25.\n"
     ]
    },
    {
     "name": "stderr",
     "output_type": "stream",
     "text": [
      "\n",
      "\n",
      "\n",
      " 26%|██▌       | 1315/5082 [00:57<01:16, 49.43it/s]\u001B[A\u001B[A\u001B[A\n",
      "\n",
      "\n",
      " 27%|██▋       | 1393/5082 [01:01<01:54, 32.25it/s]\u001B[A\u001B[A\u001B[A\n",
      "\n",
      "\n",
      " 29%|██▉       | 1464/5082 [01:01<01:17, 46.40it/s]\u001B[A\u001B[A\u001B[A"
     ]
    },
    {
     "name": "stdout",
     "output_type": "stream",
     "text": [
      "Retrain shape :  (250, 10) (220, 10)\n",
      "Change on day 2009-08-18.\n"
     ]
    },
    {
     "name": "stderr",
     "output_type": "stream",
     "text": [
      "\n",
      "\n",
      "\n",
      " 30%|██▉       | 1509/5082 [01:05<02:04, 28.77it/s]\u001B[A\u001B[A\u001B[A\n",
      "\n",
      "\n",
      " 31%|███       | 1569/5082 [01:05<01:27, 40.24it/s]\u001B[A\u001B[A\u001B[A"
     ]
    },
    {
     "name": "stdout",
     "output_type": "stream",
     "text": [
      "Retrain shape :  (250, 10) (220, 10)\n",
      "Change on day 2009-12-01.\n"
     ]
    },
    {
     "name": "stderr",
     "output_type": "stream",
     "text": [
      "\n",
      "\n",
      "\n",
      " 32%|███▏      | 1609/5082 [01:08<02:14, 25.79it/s]\u001B[A\u001B[A\u001B[A"
     ]
    },
    {
     "name": "stdout",
     "output_type": "stream",
     "text": [
      "Retrain shape :  (250, 10) (220, 10)\n",
      "Change on day 2010-05-17.\n"
     ]
    },
    {
     "name": "stderr",
     "output_type": "stream",
     "text": [
      "\n",
      "\n",
      "\n",
      " 32%|███▏      | 1638/5082 [01:12<03:10, 18.04it/s]\u001B[A\u001B[A\u001B[A\n",
      "\n",
      "\n",
      " 34%|███▎      | 1707/5082 [01:12<01:56, 29.01it/s]\u001B[A\u001B[A\u001B[A"
     ]
    },
    {
     "name": "stdout",
     "output_type": "stream",
     "text": [
      "Retrain shape :  (250, 10) (220, 10)\n",
      "Change on day 2010-07-27.\n"
     ]
    },
    {
     "name": "stderr",
     "output_type": "stream",
     "text": [
      "\n",
      "\n",
      "\n",
      " 35%|███▍      | 1757/5082 [01:16<02:38, 20.99it/s]\u001B[A\u001B[A\u001B[A\n",
      "\n",
      "\n",
      " 36%|███▌      | 1819/5082 [01:16<01:44, 31.11it/s]\u001B[A\u001B[A\u001B[A"
     ]
    },
    {
     "name": "stdout",
     "output_type": "stream",
     "text": [
      "Retrain shape :  (250, 10) (220, 10)\n",
      "Change on day 2011-01-27.\n"
     ]
    },
    {
     "name": "stderr",
     "output_type": "stream",
     "text": [
      "\n",
      "\n",
      "\n",
      " 37%|███▋      | 1855/5082 [01:20<02:35, 20.70it/s]\u001B[A\u001B[A\u001B[A"
     ]
    },
    {
     "name": "stdout",
     "output_type": "stream",
     "text": [
      "Retrain shape :  (250, 10) (220, 10)\n",
      "Change on day 2011-05-18.\n"
     ]
    },
    {
     "name": "stderr",
     "output_type": "stream",
     "text": [
      "\n",
      "\n",
      "\n",
      " 38%|███▊      | 1908/5082 [01:24<02:53, 18.27it/s]\u001B[A\u001B[A\u001B[A\n",
      "\n",
      "\n",
      " 39%|███▊      | 1969/5082 [01:24<01:54, 27.31it/s]\u001B[A\u001B[A\u001B[A\n",
      "\n",
      "\n"
     ]
    },
    {
     "name": "stdout",
     "output_type": "stream",
     "text": [
      "Retrain shape :  (250, 10) (220, 10)\n",
      "Change on day 2011-09-01.\n"
     ]
    },
    {
     "name": "stderr",
     "output_type": "stream",
     "text": [
      " 40%|███▉      | 2023/5082 [01:24<01:19, 38.24it/s]\u001B[A\u001B[A\u001B[A\n",
      "\n",
      "\n",
      " 41%|████      | 2086/5082 [01:24<00:53, 55.74it/s]\u001B[A\u001B[A\u001B[A\n",
      "\n",
      "\n",
      " 42%|████▏     | 2132/5082 [01:28<01:42, 28.88it/s]\u001B[A\u001B[A\u001B[A\n",
      "\n",
      "\n",
      " 43%|████▎     | 2201/5082 [01:28<01:05, 43.86it/s]\u001B[A\u001B[A\u001B[A"
     ]
    },
    {
     "name": "stdout",
     "output_type": "stream",
     "text": [
      "Retrain shape :  (250, 10) (220, 10)\n",
      "Change on day 2012-05-18.\n",
      "Retrain shape :  (250, 10) (220, 10)\n",
      "Change on day 2012-11-26.\n"
     ]
    },
    {
     "name": "stderr",
     "output_type": "stream",
     "text": [
      "\n",
      "\n",
      "\n",
      " 44%|████▍     | 2245/5082 [01:36<02:48, 16.84it/s]\u001B[A\u001B[A\u001B[A"
     ]
    },
    {
     "name": "stdout",
     "output_type": "stream",
     "text": [
      "Retrain shape :  (250, 10) (220, 10)\n",
      "Change on day 2012-12-04.\n"
     ]
    },
    {
     "name": "stderr",
     "output_type": "stream",
     "text": [
      "\n",
      "\n",
      "\n",
      " 45%|████▍     | 2276/5082 [01:39<03:22, 13.83it/s]\u001B[A\u001B[A\u001B[A"
     ]
    },
    {
     "name": "stdout",
     "output_type": "stream",
     "text": [
      "Retrain shape :  (250, 10) (220, 10)\n",
      "Change on day 2013-01-30.\n"
     ]
    },
    {
     "name": "stderr",
     "output_type": "stream",
     "text": [
      "\n",
      "\n",
      "\n",
      " 46%|████▌     | 2331/5082 [01:43<03:12, 14.27it/s]\u001B[A\u001B[A\u001B[A\n",
      "\n",
      "\n",
      " 47%|████▋     | 2371/5082 [01:43<02:22, 18.99it/s]\u001B[A\u001B[A\u001B[A\n",
      "\n",
      "\n"
     ]
    },
    {
     "name": "stdout",
     "output_type": "stream",
     "text": [
      "Retrain shape :  (250, 10) (220, 10)\n",
      "Change on day 2013-05-10.\n"
     ]
    },
    {
     "name": "stderr",
     "output_type": "stream",
     "text": [
      " 48%|████▊     | 2432/5082 [01:43<01:30, 29.13it/s]\u001B[A\u001B[A\u001B[A\n",
      "\n",
      "\n",
      " 49%|████▉     | 2499/5082 [01:47<01:48, 23.89it/s]\u001B[A\u001B[A\u001B[A\n",
      "\n",
      "\n",
      " 51%|█████     | 2583/5082 [01:47<01:04, 38.62it/s]\u001B[A\u001B[A\u001B[A"
     ]
    },
    {
     "name": "stdout",
     "output_type": "stream",
     "text": [
      "Retrain shape :  (250, 10) (220, 10)\n",
      "Change on day 2014-01-09.\n"
     ]
    },
    {
     "name": "stderr",
     "output_type": "stream",
     "text": [
      "\n",
      "\n",
      "\n",
      " 52%|█████▏    | 2626/5082 [01:51<01:36, 25.53it/s]\u001B[A\u001B[A\u001B[A"
     ]
    },
    {
     "name": "stdout",
     "output_type": "stream",
     "text": [
      "Retrain shape :  (250, 10) (220, 10)\n",
      "Change on day 2014-06-23.\n",
      "Retrain shape :  (250, 10) (220, 10)\n",
      "Change on day 2014-07-15.\n"
     ]
    },
    {
     "name": "stderr",
     "output_type": "stream",
     "text": [
      "\n",
      "\n",
      "\n",
      " 52%|█████▏    | 2656/5082 [01:58<03:09, 12.80it/s]\u001B[A\u001B[A\u001B[A"
     ]
    },
    {
     "name": "stdout",
     "output_type": "stream",
     "text": [
      "Retrain shape :  (250, 10) (220, 10)\n",
      "Change on day 2014-07-30.\n"
     ]
    },
    {
     "name": "stderr",
     "output_type": "stream",
     "text": [
      "\n",
      "\n",
      "\n",
      " 53%|█████▎    | 2678/5082 [02:02<03:39, 10.94it/s]\u001B[A\u001B[A\u001B[A\n",
      "\n",
      "\n",
      " 54%|█████▍    | 2747/5082 [02:02<02:05, 18.57it/s]\u001B[A\u001B[A\u001B[A"
     ]
    },
    {
     "name": "stdout",
     "output_type": "stream",
     "text": [
      "Retrain shape :  (250, 10) (220, 10)\n",
      "Change on day 2014-09-15.\n"
     ]
    },
    {
     "name": "stderr",
     "output_type": "stream",
     "text": [
      "\n",
      "\n",
      "\n",
      " 55%|█████▍    | 2790/5082 [02:06<02:26, 15.62it/s]\u001B[A\u001B[A\u001B[A\n",
      "\n",
      "\n",
      " 56%|█████▌    | 2850/5082 [02:06<01:34, 23.72it/s]\u001B[A\u001B[A\u001B[A"
     ]
    },
    {
     "name": "stdout",
     "output_type": "stream",
     "text": [
      "Retrain shape :  (250, 10) (220, 10)\n",
      "Change on day 2015-03-09.\n"
     ]
    },
    {
     "name": "stderr",
     "output_type": "stream",
     "text": [
      "\n",
      "\n",
      "\n",
      " 57%|█████▋    | 2920/5082 [02:06<00:58, 36.85it/s]\u001B[A\u001B[A\u001B[A\n",
      "\n",
      "\n",
      " 59%|█████▉    | 2987/5082 [02:10<01:15, 27.88it/s]\u001B[A\u001B[A\u001B[A\n",
      "\n",
      "\n",
      " 60%|██████    | 3056/5082 [02:10<00:49, 40.81it/s]\u001B[A\u001B[A\u001B[A"
     ]
    },
    {
     "name": "stdout",
     "output_type": "stream",
     "text": [
      "Retrain shape :  (250, 10) (220, 10)\n",
      "Change on day 2015-12-16.\n"
     ]
    },
    {
     "name": "stderr",
     "output_type": "stream",
     "text": [
      "\n",
      "\n",
      "\n",
      " 61%|██████▏   | 3117/5082 [02:10<00:34, 56.26it/s]\u001B[A\u001B[A\u001B[A\n",
      "\n",
      "\n",
      " 62%|██████▏   | 3165/5082 [02:14<01:05, 29.08it/s]\u001B[A\u001B[A\u001B[A"
     ]
    },
    {
     "name": "stdout",
     "output_type": "stream",
     "text": [
      "Retrain shape :  (250, 10) (220, 10)\n",
      "Change on day 2016-06-30.\n"
     ]
    },
    {
     "name": "stderr",
     "output_type": "stream",
     "text": [
      "\n",
      "\n",
      "\n",
      " 63%|██████▎   | 3199/5082 [02:18<01:34, 20.01it/s]\u001B[A\u001B[A\u001B[A"
     ]
    },
    {
     "name": "stdout",
     "output_type": "stream",
     "text": [
      "Retrain shape :  (250, 10) (220, 10)\n",
      "Change on day 2016-10-13.\n"
     ]
    },
    {
     "name": "stderr",
     "output_type": "stream",
     "text": [
      "\n",
      "\n",
      "\n",
      " 63%|██████▎   | 3223/5082 [02:21<02:05, 14.84it/s]\u001B[A\u001B[A\u001B[A"
     ]
    },
    {
     "name": "stdout",
     "output_type": "stream",
     "text": [
      "Retrain shape :  (250, 10) (220, 10)\n",
      "Change on day 2016-11-22.\n"
     ]
    },
    {
     "name": "stderr",
     "output_type": "stream",
     "text": [
      "\n",
      "\n",
      "\n",
      " 64%|██████▍   | 3240/5082 [02:25<02:47, 11.01it/s]\u001B[A\u001B[A\u001B[A\n",
      "\n",
      "\n",
      " 65%|██████▍   | 3303/5082 [02:25<01:32, 19.24it/s]\u001B[A\u001B[A\u001B[A"
     ]
    },
    {
     "name": "stdout",
     "output_type": "stream",
     "text": [
      "Retrain shape :  (250, 10) (220, 10)\n",
      "Change on day 2016-12-13.\n"
     ]
    },
    {
     "name": "stderr",
     "output_type": "stream",
     "text": [
      "\n",
      "\n",
      "\n",
      " 66%|██████▌   | 3331/5082 [02:29<02:00, 14.57it/s]\u001B[A\u001B[A\u001B[A\n",
      "\n",
      "\n",
      " 67%|██████▋   | 3401/5082 [02:29<01:06, 25.42it/s]\u001B[A\u001B[A\u001B[A"
     ]
    },
    {
     "name": "stdout",
     "output_type": "stream",
     "text": [
      "Retrain shape :  (250, 10) (220, 10)\n",
      "Change on day 2017-04-25.\n"
     ]
    },
    {
     "name": "stderr",
     "output_type": "stream",
     "text": [
      "\n",
      "\n",
      "\n",
      " 68%|██████▊   | 3466/5082 [02:29<00:41, 39.24it/s]\u001B[A\u001B[A\u001B[A\n",
      "\n",
      "\n",
      " 69%|██████▉   | 3521/5082 [02:29<00:28, 54.88it/s]\u001B[A\u001B[A\u001B[A\n",
      "\n",
      "\n",
      " 71%|███████   | 3586/5082 [02:29<00:18, 79.82it/s]\u001B[A\u001B[A\u001B[A\n",
      "\n",
      "\n",
      " 72%|███████▏  | 3639/5082 [02:33<00:43, 33.08it/s]\u001B[A\u001B[A\u001B[A"
     ]
    },
    {
     "name": "stdout",
     "output_type": "stream",
     "text": [
      "Retrain shape :  (250, 10) (220, 10)\n",
      "Change on day 2018-06-06.\n"
     ]
    },
    {
     "name": "stderr",
     "output_type": "stream",
     "text": [
      "\n",
      "\n",
      "\n",
      " 72%|███████▏  | 3678/5082 [02:37<01:03, 22.22it/s]\u001B[A\u001B[A\u001B[A\n",
      "\n",
      "\n",
      " 74%|███████▍  | 3753/5082 [02:37<00:37, 35.60it/s]\u001B[A\u001B[A\u001B[A"
     ]
    },
    {
     "name": "stdout",
     "output_type": "stream",
     "text": [
      "Retrain shape :  (250, 10) (220, 10)\n",
      "Change on day 2018-09-14.\n"
     ]
    },
    {
     "name": "stderr",
     "output_type": "stream",
     "text": [
      "\n",
      "\n",
      "\n",
      " 75%|███████▌  | 3815/5082 [02:37<00:25, 50.56it/s]\u001B[A\u001B[A\u001B[A\n",
      "\n",
      "\n",
      " 76%|███████▌  | 3863/5082 [02:41<00:42, 28.65it/s]\u001B[A\u001B[A\u001B[A\n",
      "\n",
      "\n",
      " 77%|███████▋  | 3922/5082 [02:41<00:28, 40.71it/s]\u001B[A\u001B[A\u001B[A"
     ]
    },
    {
     "name": "stdout",
     "output_type": "stream",
     "text": [
      "Retrain shape :  (250, 10) (220, 10)\n",
      "Change on day 2019-04-17.\n"
     ]
    },
    {
     "name": "stderr",
     "output_type": "stream",
     "text": [
      "\n",
      "\n",
      "\n",
      " 78%|███████▊  | 3986/5082 [02:45<00:39, 27.74it/s]\u001B[A\u001B[A\u001B[A"
     ]
    },
    {
     "name": "stdout",
     "output_type": "stream",
     "text": [
      "Retrain shape :  (250, 10) (220, 10)\n",
      "Change on day 2019-12-05.\n"
     ]
    },
    {
     "name": "stderr",
     "output_type": "stream",
     "text": [
      "\n",
      "\n",
      "\n",
      " 79%|███████▉  | 4016/5082 [02:49<00:55, 19.36it/s]\u001B[A\u001B[A\u001B[A\n",
      "\n",
      "\n",
      " 80%|████████  | 4071/5082 [02:49<00:36, 27.98it/s]\u001B[A\u001B[A\u001B[A\n",
      "\n",
      "\n"
     ]
    },
    {
     "name": "stdout",
     "output_type": "stream",
     "text": [
      "Retrain shape :  (250, 10) (220, 10)\n",
      "Change on day 2020-01-17.\n"
     ]
    },
    {
     "name": "stderr",
     "output_type": "stream",
     "text": [
      " 81%|████████▏ | 4134/5082 [02:49<00:22, 41.63it/s]\u001B[A\u001B[A\u001B[A\n",
      "\n",
      "\n",
      " 82%|████████▏ | 4182/5082 [02:49<00:16, 55.38it/s]\u001B[A\u001B[A\u001B[A\n",
      "\n",
      "\n",
      " 84%|████████▍ | 4263/5082 [02:49<00:09, 87.72it/s]\u001B[A\u001B[A\u001B[A\n",
      "\n",
      "\n",
      " 85%|████████▍ | 4318/5082 [02:53<00:21, 34.78it/s]\u001B[A\u001B[A\u001B[A\n",
      "\n",
      "\n",
      " 86%|████████▌ | 4374/5082 [02:53<00:14, 47.61it/s]\u001B[A\u001B[A\u001B[A"
     ]
    },
    {
     "name": "stdout",
     "output_type": "stream",
     "text": [
      "Retrain shape :  (250, 10) (220, 10)\n",
      "Change on day 2021-03-15.\n"
     ]
    },
    {
     "name": "stderr",
     "output_type": "stream",
     "text": [
      "\n",
      "\n",
      "\n",
      " 87%|████████▋ | 4435/5082 [02:53<00:09, 66.59it/s]\u001B[A\u001B[A\u001B[A\n",
      "\n",
      "\n",
      " 89%|████████▊ | 4508/5082 [02:53<00:05, 97.08it/s]\u001B[A\u001B[A\u001B[A\n",
      "\n",
      "\n",
      " 90%|████████▉ | 4571/5082 [02:57<00:12, 41.46it/s]\u001B[A\u001B[A\u001B[A"
     ]
    },
    {
     "name": "stdout",
     "output_type": "stream",
     "text": [
      "Retrain shape :  (250, 10) (220, 10)\n",
      "Change on day 2022-04-01.\n"
     ]
    },
    {
     "name": "stderr",
     "output_type": "stream",
     "text": [
      "\n",
      "\n",
      "\n",
      " 91%|█████████ | 4611/5082 [03:01<00:18, 25.45it/s]\u001B[A\u001B[A\u001B[A\n",
      "\n",
      "\n",
      " 92%|█████████▏| 4676/5082 [03:01<00:10, 37.31it/s]\u001B[A\u001B[A\u001B[A"
     ]
    },
    {
     "name": "stdout",
     "output_type": "stream",
     "text": [
      "Retrain shape :  (250, 10) (220, 10)\n",
      "Change on day 2022-05-20.\n"
     ]
    },
    {
     "name": "stderr",
     "output_type": "stream",
     "text": [
      "\n",
      "\n",
      "\n",
      " 93%|█████████▎| 4715/5082 [03:05<00:15, 23.52it/s]\u001B[A\u001B[A\u001B[A\n",
      "\n",
      "\n",
      " 94%|█████████▍| 4787/5082 [03:05<00:08, 36.54it/s]\u001B[A\u001B[A\u001B[A"
     ]
    },
    {
     "name": "stdout",
     "output_type": "stream",
     "text": [
      "Retrain shape :  (250, 10) (220, 10)\n",
      "Change on day 2022-10-07.\n"
     ]
    },
    {
     "name": "stderr",
     "output_type": "stream",
     "text": [
      "\n",
      "\n",
      "\n",
      " 95%|█████████▌| 4831/5082 [03:09<00:10, 23.94it/s]\u001B[A\u001B[A\u001B[A\n",
      "\n",
      "\n",
      " 96%|█████████▌| 4871/5082 [03:09<00:06, 30.92it/s]\u001B[A\u001B[A\u001B[A"
     ]
    },
    {
     "name": "stdout",
     "output_type": "stream",
     "text": [
      "Retrain shape :  (250, 10) (220, 10)\n",
      "Change on day 2023-04-17.\n"
     ]
    },
    {
     "name": "stderr",
     "output_type": "stream",
     "text": [
      "\n",
      "\n",
      "\n",
      " 96%|█████████▋| 4904/5082 [03:13<00:09, 19.31it/s]\u001B[A\u001B[A\u001B[A"
     ]
    },
    {
     "name": "stdout",
     "output_type": "stream",
     "text": [
      "Retrain shape :  (250, 10) (220, 10)\n",
      "Change on day 2023-06-22.\n"
     ]
    },
    {
     "name": "stderr",
     "output_type": "stream",
     "text": [
      "\n",
      "\n",
      "\n",
      " 97%|█████████▋| 4938/5082 [03:16<00:09, 15.36it/s]\u001B[A\u001B[A\u001B[A\n",
      "\n",
      "\n",
      " 99%|█████████▊| 5009/5082 [03:16<00:02, 26.18it/s]\u001B[A\u001B[A\u001B[A\n",
      "\n",
      "\n"
     ]
    },
    {
     "name": "stdout",
     "output_type": "stream",
     "text": [
      "Retrain shape :  (250, 10) (220, 10)\n",
      "Change on day 2023-09-19.\n"
     ]
    },
    {
     "name": "stderr",
     "output_type": "stream",
     "text": [
      "100%|██████████| 5082/5082 [03:16<00:00, 25.80it/s]\u001B[A\u001B[A\u001B[A\n"
     ]
    },
    {
     "name": "stdout",
     "output_type": "stream",
     "text": [
      "Number of chage :  51\n",
      "Results will be saved in: C:\\Users\\sangheon\\Desktop\\Hurst_TE_RealizedVol\\False_30_250_20240910_223125\n"
     ]
    },
    {
     "name": "stderr",
     "output_type": "stream",
     "text": [
      "\n",
      "\n",
      " 50%|█████     | 1/2 [03:22<03:22, 202.52s/it]\u001B[A\u001B[A"
     ]
    },
    {
     "name": "stdout",
     "output_type": "stream",
     "text": [
      "initial_data_x and y (250, 10) (220, 10)\n"
     ]
    },
    {
     "name": "stderr",
     "output_type": "stream",
     "text": [
      "\n",
      "\n",
      "\n",
      "  0%|          | 0/5082 [00:00<?, ?it/s]\u001B[A\u001B[A\u001B[A\n",
      "\n",
      "\n",
      "  0%|          | 10/5082 [00:06<57:08,  1.48it/s]\u001B[A\u001B[A\u001B[A\n",
      "\n",
      "\n",
      "  2%|▏         | 77/5082 [00:06<05:26, 15.31it/s]\u001B[A\u001B[A\u001B[A"
     ]
    },
    {
     "name": "stdout",
     "output_type": "stream",
     "text": [
      "Retrain shape :  (250, 10) (220, 10)\n",
      "Change on day 2004-02-20.\n"
     ]
    },
    {
     "name": "stderr",
     "output_type": "stream",
     "text": [
      "\n",
      "\n",
      "\n",
      "  3%|▎         | 144/5082 [00:06<02:24, 34.10it/s]\u001B[A\u001B[A\u001B[A\n",
      "\n",
      "\n",
      "  4%|▍         | 196/5082 [00:14<05:48, 14.01it/s]\u001B[A\u001B[A\u001B[A"
     ]
    },
    {
     "name": "stdout",
     "output_type": "stream",
     "text": [
      "Retrain shape :  (250, 10) (220, 10)\n",
      "Change on day 2004-10-05.\n"
     ]
    },
    {
     "name": "stderr",
     "output_type": "stream",
     "text": [
      "\n",
      "\n",
      "\n",
      "  4%|▍         | 228/5082 [00:21<09:04,  8.92it/s]\u001B[A\u001B[A\u001B[A"
     ]
    },
    {
     "name": "stdout",
     "output_type": "stream",
     "text": [
      "Retrain shape :  (250, 10) (220, 10)\n",
      "Change on day 2004-11-30.\n"
     ]
    },
    {
     "name": "stderr",
     "output_type": "stream",
     "text": [
      "\n",
      "\n",
      "\n",
      "  5%|▌         | 276/5082 [00:28<09:58,  8.03it/s]\u001B[A\u001B[A\u001B[A\n",
      "\n",
      "\n",
      "  7%|▋         | 337/5082 [00:28<06:03, 13.04it/s]\u001B[A\u001B[A\u001B[A"
     ]
    },
    {
     "name": "stdout",
     "output_type": "stream",
     "text": [
      "Retrain shape :  (250, 10) (220, 10)\n",
      "Change on day 2005-03-11.\n"
     ]
    },
    {
     "name": "stderr",
     "output_type": "stream",
     "text": [
      "\n",
      "\n",
      "\n",
      "  7%|▋         | 367/5082 [00:35<08:15,  9.52it/s]\u001B[A\u001B[A\u001B[A"
     ]
    },
    {
     "name": "stdout",
     "output_type": "stream",
     "text": [
      "Retrain shape :  (250, 10) (220, 10)\n",
      "Change on day 2005-06-28.\n"
     ]
    },
    {
     "name": "stderr",
     "output_type": "stream",
     "text": [
      "\n",
      "\n",
      "\n",
      "  8%|▊         | 390/5082 [00:41<10:33,  7.41it/s]\u001B[A\u001B[A\u001B[A"
     ]
    },
    {
     "name": "stdout",
     "output_type": "stream",
     "text": [
      "Retrain shape :  (250, 10) (220, 10)\n",
      "Change on day 2005-08-23.\n"
     ]
    },
    {
     "name": "stderr",
     "output_type": "stream",
     "text": [
      "\n",
      "\n",
      "\n",
      "  9%|▊         | 442/5082 [00:47<10:02,  7.71it/s]\u001B[A\u001B[A\u001B[A\n",
      "\n",
      "\n",
      " 10%|▉         | 502/5082 [00:47<06:08, 12.44it/s]\u001B[A\u001B[A\u001B[A"
     ]
    },
    {
     "name": "stdout",
     "output_type": "stream",
     "text": [
      "Retrain shape :  (250, 10) (220, 10)\n",
      "Change on day 2005-11-04.\n"
     ]
    },
    {
     "name": "stderr",
     "output_type": "stream",
     "text": [
      "\n",
      "\n",
      "\n",
      " 11%|█         | 536/5082 [00:54<08:11,  9.26it/s]\u001B[A\u001B[A\u001B[A\n",
      "\n",
      "\n",
      " 12%|█▏        | 612/5082 [00:54<04:36, 16.14it/s]\u001B[A\u001B[A\u001B[A"
     ]
    },
    {
     "name": "stdout",
     "output_type": "stream",
     "text": [
      "Retrain shape :  (250, 10) (220, 10)\n",
      "Change on day 2006-03-23.\n",
      "Retrain shape :  (250, 10) (220, 10)\n",
      "Change on day 2006-07-20.\n"
     ]
    },
    {
     "name": "stderr",
     "output_type": "stream",
     "text": [
      "\n",
      "\n",
      "\n",
      " 13%|█▎        | 648/5082 [01:08<09:56,  7.43it/s]\u001B[A\u001B[A\u001B[A\n",
      "\n",
      "\n",
      " 14%|█▍        | 721/5082 [01:08<05:56, 12.22it/s]\u001B[A\u001B[A\u001B[A"
     ]
    },
    {
     "name": "stdout",
     "output_type": "stream",
     "text": [
      "Retrain shape :  (250, 10) (220, 10)\n",
      "Change on day 2006-08-17.\n"
     ]
    },
    {
     "name": "stderr",
     "output_type": "stream",
     "text": [
      "\n",
      "\n",
      "\n",
      " 15%|█▌        | 768/5082 [01:14<06:58, 10.30it/s]\u001B[A\u001B[A\u001B[A\n",
      "\n",
      "\n",
      " 17%|█▋        | 849/5082 [01:14<04:10, 16.93it/s]\u001B[A\u001B[A\u001B[A"
     ]
    },
    {
     "name": "stdout",
     "output_type": "stream",
     "text": [
      "Retrain shape :  (250, 10) (220, 10)\n",
      "Change on day 2007-01-26.\n"
     ]
    },
    {
     "name": "stderr",
     "output_type": "stream",
     "text": [
      "\n",
      "\n",
      "\n",
      " 18%|█▊        | 921/5082 [01:14<02:45, 25.16it/s]\u001B[A\u001B[A\u001B[A\n",
      "\n",
      "\n",
      " 19%|█▉        | 976/5082 [01:22<04:28, 15.32it/s]\u001B[A\u001B[A\u001B[A"
     ]
    },
    {
     "name": "stdout",
     "output_type": "stream",
     "text": [
      "Retrain shape :  (250, 10) (220, 10)\n",
      "Change on day 2007-10-11.\n"
     ]
    },
    {
     "name": "stderr",
     "output_type": "stream",
     "text": [
      "\n",
      "\n",
      "\n",
      " 21%|██        | 1050/5082 [01:30<05:29, 12.22it/s]\u001B[A\u001B[A\u001B[A"
     ]
    },
    {
     "name": "stdout",
     "output_type": "stream",
     "text": [
      "Retrain shape :  (250, 10) (220, 10)\n",
      "Change on day 2008-04-09.\n"
     ]
    },
    {
     "name": "stderr",
     "output_type": "stream",
     "text": [
      "\n",
      "\n",
      "\n",
      " 21%|██        | 1078/5082 [01:39<07:49,  8.52it/s]\u001B[A\u001B[A\u001B[A\n",
      "\n",
      "\n",
      " 23%|██▎       | 1147/5082 [01:39<05:00, 13.09it/s]\u001B[A\u001B[A\u001B[A"
     ]
    },
    {
     "name": "stdout",
     "output_type": "stream",
     "text": [
      "Retrain shape :  (250, 10) (220, 10)\n",
      "Change on day 2008-05-08.\n"
     ]
    },
    {
     "name": "stderr",
     "output_type": "stream",
     "text": [
      "\n",
      "\n",
      "\n",
      " 23%|██▎       | 1181/5082 [01:48<07:34,  8.59it/s]\u001B[A\u001B[A\u001B[A\n",
      "\n",
      "\n",
      " 25%|██▍       | 1253/5082 [01:49<04:40, 13.67it/s]\u001B[A\u001B[A\u001B[A"
     ]
    },
    {
     "name": "stdout",
     "output_type": "stream",
     "text": [
      "Retrain shape :  (250, 10) (220, 10)\n",
      "Change on day 2008-09-25.\n"
     ]
    },
    {
     "name": "stderr",
     "output_type": "stream",
     "text": [
      "\n",
      "\n",
      "\n",
      " 25%|██▌       | 1292/5082 [01:49<03:37, 17.45it/s]\u001B[A\u001B[A\u001B[A\n",
      "\n",
      "\n",
      " 27%|██▋       | 1366/5082 [01:49<02:14, 27.70it/s]\u001B[A\u001B[A\u001B[A\n",
      "\n",
      "\n",
      " 27%|██▋       | 1366/5082 [02:02<02:14, 27.70it/s]\u001B[A\u001B[A\u001B[A\n",
      "\n",
      "\n",
      " 27%|██▋       | 1393/5082 [02:03<07:10,  8.58it/s]\u001B[A\u001B[A\u001B[A"
     ]
    },
    {
     "name": "stdout",
     "output_type": "stream",
     "text": [
      "Retrain shape :  (250, 10) (220, 10)\n",
      "Change on day 2009-08-18.\n"
     ]
    },
    {
     "name": "stderr",
     "output_type": "stream",
     "text": [
      "\n",
      "\n",
      "\n",
      " 29%|██▉       | 1466/5082 [02:14<07:45,  7.76it/s]\u001B[A\u001B[A\u001B[A\n",
      "\n",
      "\n",
      " 30%|███       | 1536/5082 [02:14<04:59, 11.84it/s]\u001B[A\u001B[A\u001B[A"
     ]
    },
    {
     "name": "stdout",
     "output_type": "stream",
     "text": [
      "Retrain shape :  (250, 10) (220, 10)\n",
      "Change on day 2009-12-01.\n"
     ]
    },
    {
     "name": "stderr",
     "output_type": "stream",
     "text": [
      "\n",
      "\n",
      "\n",
      " 31%|███▏      | 1591/5082 [02:22<06:04,  9.57it/s]\u001B[A\u001B[A\u001B[A"
     ]
    },
    {
     "name": "stdout",
     "output_type": "stream",
     "text": [
      "Retrain shape :  (250, 10) (220, 10)\n",
      "Change on day 2010-05-17.\n"
     ]
    },
    {
     "name": "stderr",
     "output_type": "stream",
     "text": [
      "\n",
      "\n",
      "\n",
      " 32%|███▏      | 1630/5082 [02:31<07:31,  7.65it/s]\u001B[A\u001B[A\u001B[A\n",
      "\n",
      "\n",
      " 33%|███▎      | 1697/5082 [02:31<04:48, 11.74it/s]\u001B[A\u001B[A\u001B[A"
     ]
    },
    {
     "name": "stdout",
     "output_type": "stream",
     "text": [
      "Retrain shape :  (250, 10) (220, 10)\n",
      "Change on day 2010-07-27.\n"
     ]
    },
    {
     "name": "stderr",
     "output_type": "stream",
     "text": [
      "\n",
      "\n",
      "\n",
      " 35%|███▍      | 1757/5082 [02:39<05:34,  9.95it/s]\u001B[A\u001B[A\u001B[A"
     ]
    },
    {
     "name": "stdout",
     "output_type": "stream",
     "text": [
      "Retrain shape :  (250, 10) (220, 10)\n",
      "Change on day 2011-01-27.\n"
     ]
    },
    {
     "name": "stderr",
     "output_type": "stream",
     "text": [
      "\n",
      "\n",
      "\n",
      " 36%|███▌      | 1834/5082 [02:47<05:25,  9.99it/s]\u001B[A\u001B[A\u001B[A\n",
      "\n",
      "\n",
      " 37%|███▋      | 1902/5082 [02:47<03:39, 14.46it/s]\u001B[A\u001B[A\u001B[A"
     ]
    },
    {
     "name": "stdout",
     "output_type": "stream",
     "text": [
      "Retrain shape :  (250, 10) (220, 10)\n",
      "Change on day 2011-05-18.\n"
     ]
    },
    {
     "name": "stderr",
     "output_type": "stream",
     "text": [
      "\n",
      "\n",
      "\n",
      " 38%|███▊      | 1936/5082 [02:55<05:18,  9.89it/s]\u001B[A\u001B[A\u001B[A\n",
      "\n",
      "\n",
      " 39%|███▉      | 2001/5082 [02:55<03:29, 14.73it/s]\u001B[A\u001B[A\u001B[A"
     ]
    },
    {
     "name": "stdout",
     "output_type": "stream",
     "text": [
      "Retrain shape :  (250, 10) (220, 10)\n",
      "Change on day 2011-09-01.\n"
     ]
    },
    {
     "name": "stderr",
     "output_type": "stream",
     "text": [
      "\n",
      "\n",
      "\n",
      " 41%|████      | 2064/5082 [02:56<02:21, 21.29it/s]\u001B[A\u001B[A\u001B[A\n",
      "\n",
      "\n",
      " 41%|████▏     | 2108/5082 [03:05<04:15, 11.63it/s]\u001B[A\u001B[A\u001B[A\n",
      "\n",
      "\n",
      " 43%|████▎     | 2174/5082 [03:05<02:46, 17.45it/s]\u001B[A\u001B[A\u001B[A"
     ]
    },
    {
     "name": "stdout",
     "output_type": "stream",
     "text": [
      "Retrain shape :  (250, 10) (220, 10)\n",
      "Change on day 2012-05-18.\n"
     ]
    },
    {
     "name": "stderr",
     "output_type": "stream",
     "text": [
      "\n",
      "\n",
      "\n",
      " 44%|████▎     | 2217/5082 [03:12<04:06, 11.62it/s]\u001B[A\u001B[A\u001B[A"
     ]
    },
    {
     "name": "stdout",
     "output_type": "stream",
     "text": [
      "Retrain shape :  (250, 10) (220, 10)\n",
      "Change on day 2012-11-26.\n"
     ]
    },
    {
     "name": "stderr",
     "output_type": "stream",
     "text": [
      "\n",
      "\n",
      "\n",
      " 44%|████▍     | 2247/5082 [03:20<05:25,  8.70it/s]\u001B[A\u001B[A\u001B[A"
     ]
    },
    {
     "name": "stdout",
     "output_type": "stream",
     "text": [
      "Retrain shape :  (250, 10) (220, 10)\n",
      "Change on day 2012-12-04.\n"
     ]
    },
    {
     "name": "stderr",
     "output_type": "stream",
     "text": [
      "\n",
      "\n",
      "\n",
      " 45%|████▍     | 2268/5082 [03:26<06:59,  6.71it/s]\u001B[A\u001B[A\u001B[A"
     ]
    },
    {
     "name": "stdout",
     "output_type": "stream",
     "text": [
      "Retrain shape :  (250, 10) (220, 10)\n",
      "Change on day 2013-01-30.\n"
     ]
    },
    {
     "name": "stderr",
     "output_type": "stream",
     "text": [
      "\n",
      "\n",
      "\n",
      " 46%|████▌     | 2331/5082 [03:33<06:05,  7.53it/s]\u001B[A\u001B[A\u001B[A\n",
      "\n",
      "\n",
      " 47%|████▋     | 2405/5082 [03:33<03:32, 12.62it/s]\u001B[A\u001B[A\u001B[A\n",
      "\n",
      "\n"
     ]
    },
    {
     "name": "stdout",
     "output_type": "stream",
     "text": [
      "Retrain shape :  (250, 10) (220, 10)\n",
      "Change on day 2013-05-10.\n"
     ]
    },
    {
     "name": "stderr",
     "output_type": "stream",
     "text": [
      " 48%|████▊     | 2445/5082 [03:33<02:40, 16.42it/s]\u001B[A\u001B[A\u001B[A\n",
      "\n",
      "\n",
      " 49%|████▉     | 2499/5082 [03:40<03:32, 12.17it/s]\u001B[A\u001B[A\u001B[A\n",
      "\n",
      "\n",
      " 50%|████▉     | 2531/5082 [03:40<02:47, 15.27it/s]\u001B[A\u001B[A\u001B[A"
     ]
    },
    {
     "name": "stdout",
     "output_type": "stream",
     "text": [
      "Retrain shape :  (250, 10) (220, 10)\n",
      "Change on day 2014-01-09.\n"
     ]
    },
    {
     "name": "stderr",
     "output_type": "stream",
     "text": [
      "\n",
      "\n",
      "\n",
      " 50%|█████     | 2562/5082 [03:41<02:09, 19.44it/s]\u001B[A\u001B[A\u001B[A\n",
      "\n",
      "\n",
      " 51%|█████▏    | 2612/5082 [03:47<03:12, 12.83it/s]\u001B[A\u001B[A\u001B[A"
     ]
    },
    {
     "name": "stdout",
     "output_type": "stream",
     "text": [
      "Retrain shape :  (250, 10) (220, 10)\n",
      "Change on day 2014-06-23.\n"
     ]
    },
    {
     "name": "stderr",
     "output_type": "stream",
     "text": [
      "\n",
      "\n",
      "\n",
      " 52%|█████▏    | 2632/5082 [03:53<04:44,  8.60it/s]\u001B[A\u001B[A\u001B[A"
     ]
    },
    {
     "name": "stdout",
     "output_type": "stream",
     "text": [
      "Retrain shape :  (250, 10) (220, 10)\n",
      "Change on day 2014-07-15.\n"
     ]
    },
    {
     "name": "stderr",
     "output_type": "stream",
     "text": [
      "\n",
      "\n",
      "\n",
      " 52%|█████▏    | 2646/5082 [04:00<06:44,  6.03it/s]\u001B[A\u001B[A\u001B[A"
     ]
    },
    {
     "name": "stdout",
     "output_type": "stream",
     "text": [
      "Retrain shape :  (250, 10) (220, 10)\n",
      "Change on day 2014-07-30.\n"
     ]
    },
    {
     "name": "stderr",
     "output_type": "stream",
     "text": [
      "\n",
      "\n",
      "\n",
      " 53%|█████▎    | 2670/5082 [04:06<07:47,  5.16it/s]\u001B[A\u001B[A\u001B[A\n",
      "\n",
      "\n",
      " 53%|█████▎    | 2702/5082 [04:07<05:12,  7.62it/s]\u001B[A\u001B[A\u001B[A"
     ]
    },
    {
     "name": "stdout",
     "output_type": "stream",
     "text": [
      "Retrain shape :  (250, 10) (220, 10)\n",
      "Change on day 2014-09-15.\n"
     ]
    },
    {
     "name": "stderr",
     "output_type": "stream",
     "text": [
      "\n",
      "\n",
      "\n",
      " 54%|█████▍    | 2746/5082 [04:07<03:08, 12.40it/s]\u001B[A\u001B[A\u001B[A\n",
      "\n",
      "\n",
      " 55%|█████▍    | 2777/5082 [04:07<02:15, 17.01it/s]\u001B[A\u001B[A\u001B[A\n",
      "\n",
      "\n",
      " 55%|█████▌    | 2803/5082 [04:14<04:17,  8.84it/s]\u001B[A\u001B[A\u001B[A\n",
      "\n",
      "\n",
      " 56%|█████▋    | 2861/5082 [04:14<02:20, 15.78it/s]\u001B[A\u001B[A\u001B[A"
     ]
    },
    {
     "name": "stdout",
     "output_type": "stream",
     "text": [
      "Retrain shape :  (250, 10) (220, 10)\n",
      "Change on day 2015-03-09.\n"
     ]
    },
    {
     "name": "stderr",
     "output_type": "stream",
     "text": [
      "\n",
      "\n",
      "\n",
      " 57%|█████▋    | 2920/5082 [04:14<01:24, 25.57it/s]\u001B[A\u001B[A\u001B[A\n",
      "\n",
      "\n",
      " 59%|█████▉    | 2987/5082 [04:22<02:25, 14.40it/s]\u001B[A\u001B[A\u001B[A\n",
      "\n",
      "\n",
      " 60%|██████    | 3055/5082 [04:22<01:31, 22.27it/s]\u001B[A\u001B[A\u001B[A"
     ]
    },
    {
     "name": "stdout",
     "output_type": "stream",
     "text": [
      "Retrain shape :  (250, 10) (220, 10)\n",
      "Change on day 2015-12-16.\n"
     ]
    },
    {
     "name": "stderr",
     "output_type": "stream",
     "text": [
      "\n",
      "\n",
      "\n",
      " 61%|██████▏   | 3122/5082 [04:31<02:26, 13.34it/s]\u001B[A\u001B[A\u001B[A\n",
      "\n",
      "\n",
      " 63%|██████▎   | 3189/5082 [04:31<01:36, 19.57it/s]\u001B[A\u001B[A\u001B[A"
     ]
    },
    {
     "name": "stdout",
     "output_type": "stream",
     "text": [
      "Retrain shape :  (250, 10) (220, 10)\n",
      "Change on day 2016-06-30.\n",
      "Retrain shape :  (250, 10) (220, 10)\n",
      "Change on day 2016-10-13.\n"
     ]
    },
    {
     "name": "stderr",
     "output_type": "stream",
     "text": [
      "\n",
      "\n",
      "\n",
      " 63%|██████▎   | 3189/5082 [04:42<01:36, 19.57it/s]\u001B[A\u001B[A\u001B[A\n",
      "\n",
      "\n",
      " 63%|██████▎   | 3223/5082 [04:48<04:14,  7.29it/s]\u001B[A\u001B[A\u001B[A"
     ]
    },
    {
     "name": "stdout",
     "output_type": "stream",
     "text": [
      "Retrain shape :  (250, 10) (220, 10)\n",
      "Change on day 2016-11-22.\n"
     ]
    },
    {
     "name": "stderr",
     "output_type": "stream",
     "text": [
      "\n",
      "\n",
      "\n",
      " 64%|██████▎   | 3237/5082 [04:57<05:39,  5.44it/s]\u001B[A\u001B[A\u001B[A\n",
      "\n",
      "\n",
      " 65%|██████▌   | 3311/5082 [04:57<03:06,  9.52it/s]\u001B[A\u001B[A\u001B[A"
     ]
    },
    {
     "name": "stdout",
     "output_type": "stream",
     "text": [
      "Retrain shape :  (250, 10) (220, 10)\n",
      "Change on day 2016-12-13.\n"
     ]
    },
    {
     "name": "stderr",
     "output_type": "stream",
     "text": [
      "\n",
      "\n",
      "\n",
      " 66%|██████▌   | 3353/5082 [05:04<03:38,  7.92it/s]\u001B[A\u001B[A\u001B[A\n",
      "\n",
      "\n",
      " 67%|██████▋   | 3427/5082 [05:05<02:07, 13.01it/s]\u001B[A\u001B[A\u001B[A"
     ]
    },
    {
     "name": "stdout",
     "output_type": "stream",
     "text": [
      "Retrain shape :  (250, 10) (220, 10)\n",
      "Change on day 2017-04-25.\n"
     ]
    },
    {
     "name": "stderr",
     "output_type": "stream",
     "text": [
      "\n",
      "\n",
      "\n",
      " 69%|██████▉   | 3497/5082 [05:05<01:20, 19.75it/s]\u001B[A\u001B[A\u001B[A\n",
      "\n",
      "\n",
      " 70%|███████   | 3572/5082 [05:05<00:50, 29.86it/s]\u001B[A\u001B[A\u001B[A\n",
      "\n",
      "\n",
      " 71%|███████▏  | 3630/5082 [05:12<01:23, 17.48it/s]\u001B[A\u001B[A\u001B[A"
     ]
    },
    {
     "name": "stdout",
     "output_type": "stream",
     "text": [
      "Retrain shape :  (250, 10) (220, 10)\n",
      "Change on day 2018-06-06.\n"
     ]
    },
    {
     "name": "stderr",
     "output_type": "stream",
     "text": [
      "\n",
      "\n",
      "\n",
      " 72%|███████▏  | 3678/5082 [05:19<01:50, 12.70it/s]\u001B[A\u001B[A\u001B[A\n",
      "\n",
      "\n",
      " 73%|███████▎  | 3709/5082 [05:19<01:28, 15.45it/s]\u001B[A\u001B[A\u001B[A\n",
      "\n",
      "\n"
     ]
    },
    {
     "name": "stdout",
     "output_type": "stream",
     "text": [
      "Retrain shape :  (250, 10) (220, 10)\n",
      "Change on day 2018-09-14.\n"
     ]
    },
    {
     "name": "stderr",
     "output_type": "stream",
     "text": [
      " 74%|███████▍  | 3782/5082 [05:19<00:52, 24.76it/s]\u001B[A\u001B[A\u001B[A\n",
      "\n",
      "\n",
      " 75%|███████▌  | 3825/5082 [05:26<01:30, 13.94it/s]\u001B[A\u001B[A\u001B[A\n",
      "\n",
      "\n",
      " 76%|███████▋  | 3886/5082 [05:26<00:58, 20.61it/s]\u001B[A\u001B[A\u001B[A"
     ]
    },
    {
     "name": "stdout",
     "output_type": "stream",
     "text": [
      "Retrain shape :  (250, 10) (220, 10)\n",
      "Change on day 2019-04-17.\n"
     ]
    },
    {
     "name": "stderr",
     "output_type": "stream",
     "text": [
      "\n",
      "\n",
      "\n",
      " 77%|███████▋  | 3926/5082 [05:26<00:43, 26.46it/s]\u001B[A\u001B[A\u001B[A\n",
      "\n",
      "\n",
      " 78%|███████▊  | 3986/5082 [05:33<01:08, 15.98it/s]\u001B[A\u001B[A\u001B[A"
     ]
    },
    {
     "name": "stdout",
     "output_type": "stream",
     "text": [
      "Retrain shape :  (250, 10) (220, 10)\n",
      "Change on day 2019-12-05.\n"
     ]
    },
    {
     "name": "stderr",
     "output_type": "stream",
     "text": [
      "\n",
      "\n",
      "\n",
      " 79%|███████▉  | 4015/5082 [05:40<01:41, 10.54it/s]\u001B[A\u001B[A\u001B[A\n",
      "\n",
      "\n",
      " 81%|████████  | 4092/5082 [05:40<00:55, 17.91it/s]\u001B[A\u001B[A\u001B[A\n",
      "\n",
      "\n"
     ]
    },
    {
     "name": "stdout",
     "output_type": "stream",
     "text": [
      "Retrain shape :  (250, 10) (220, 10)\n",
      "Change on day 2020-01-17.\n"
     ]
    },
    {
     "name": "stderr",
     "output_type": "stream",
     "text": [
      " 82%|████████▏ | 4158/5082 [05:40<00:34, 26.68it/s]\u001B[A\u001B[A\u001B[A\n",
      "\n",
      "\n",
      " 83%|████████▎ | 4212/5082 [05:40<00:23, 36.51it/s]\u001B[A\u001B[A\u001B[A\n",
      "\n",
      "\n",
      " 84%|████████▍ | 4289/5082 [05:40<00:14, 56.04it/s]\u001B[A\u001B[A\u001B[A\n",
      "\n",
      "\n",
      " 86%|████████▌ | 4346/5082 [05:50<00:45, 16.22it/s]\u001B[A\u001B[A\u001B[A\n",
      "\n",
      "\n",
      " 87%|████████▋ | 4420/5082 [05:50<00:27, 24.34it/s]\u001B[A\u001B[A\u001B[A"
     ]
    },
    {
     "name": "stdout",
     "output_type": "stream",
     "text": [
      "Retrain shape :  (250, 10) (220, 10)\n",
      "Change on day 2021-03-15.\n"
     ]
    },
    {
     "name": "stderr",
     "output_type": "stream",
     "text": [
      "\n",
      "\n",
      "\n",
      " 88%|████████▊ | 4474/5082 [05:50<00:18, 32.47it/s]\u001B[A\u001B[A\u001B[A\n",
      "\n",
      "\n",
      " 89%|████████▉ | 4545/5082 [05:50<00:11, 47.37it/s]\u001B[A\u001B[A\u001B[A\n",
      "\n",
      "\n",
      " 91%|█████████ | 4602/5082 [05:58<00:24, 19.86it/s]\u001B[A\u001B[A\u001B[A"
     ]
    },
    {
     "name": "stdout",
     "output_type": "stream",
     "text": [
      "Retrain shape :  (250, 10) (220, 10)\n",
      "Change on day 2022-04-01.\n"
     ]
    },
    {
     "name": "stderr",
     "output_type": "stream",
     "text": [
      "\n",
      "\n",
      "\n",
      " 91%|█████████▏| 4642/5082 [06:05<00:35, 12.57it/s]\u001B[A\u001B[A\u001B[A"
     ]
    },
    {
     "name": "stdout",
     "output_type": "stream",
     "text": [
      "Retrain shape :  (250, 10) (220, 10)\n",
      "Change on day 2022-05-20.\n"
     ]
    },
    {
     "name": "stderr",
     "output_type": "stream",
     "text": [
      "\n",
      "\n",
      "\n",
      " 93%|█████████▎| 4701/5082 [06:13<00:37, 10.22it/s]\u001B[A\u001B[A\u001B[A\n",
      "\n",
      "\n",
      " 94%|█████████▍| 4771/5082 [06:13<00:20, 15.51it/s]\u001B[A\u001B[A\u001B[A"
     ]
    },
    {
     "name": "stdout",
     "output_type": "stream",
     "text": [
      "Retrain shape :  (250, 10) (220, 10)\n",
      "Change on day 2022-10-07.\n"
     ]
    },
    {
     "name": "stderr",
     "output_type": "stream",
     "text": [
      "\n",
      "\n",
      "\n",
      " 95%|█████████▌| 4831/5082 [06:22<00:21, 11.66it/s]\u001B[A\u001B[A\u001B[A"
     ]
    },
    {
     "name": "stdout",
     "output_type": "stream",
     "text": [
      "Retrain shape :  (250, 10) (220, 10)\n",
      "Change on day 2023-04-17.\n"
     ]
    },
    {
     "name": "stderr",
     "output_type": "stream",
     "text": [
      "\n",
      "\n",
      "\n",
      " 96%|█████████▌| 4877/5082 [06:30<00:22,  9.26it/s]\u001B[A\u001B[A\u001B[A"
     ]
    },
    {
     "name": "stdout",
     "output_type": "stream",
     "text": [
      "Retrain shape :  (250, 10) (220, 10)\n",
      "Change on day 2023-06-22.\n"
     ]
    },
    {
     "name": "stderr",
     "output_type": "stream",
     "text": [
      "\n",
      "\n",
      "\n",
      " 97%|█████████▋| 4938/5082 [06:37<00:16,  8.82it/s]\u001B[A\u001B[A\u001B[A\n",
      "\n",
      "\n",
      " 99%|█████████▊| 5010/5082 [06:37<00:05, 13.45it/s]\u001B[A\u001B[A\u001B[A\n",
      "\n",
      "\n"
     ]
    },
    {
     "name": "stdout",
     "output_type": "stream",
     "text": [
      "Retrain shape :  (250, 10) (220, 10)\n",
      "Change on day 2023-09-19.\n"
     ]
    },
    {
     "name": "stderr",
     "output_type": "stream",
     "text": [
      "100%|██████████| 5082/5082 [06:38<00:00, 12.77it/s]\u001B[A\u001B[A\u001B[A\n"
     ]
    },
    {
     "name": "stdout",
     "output_type": "stream",
     "text": [
      "Number of chage :  51\n",
      "Results will be saved in: C:\\Users\\sangheon\\Desktop\\Hurst_TE_RealizedVol\\True_30_250_20240910_223812\n"
     ]
    },
    {
     "name": "stderr",
     "output_type": "stream",
     "text": [
      "\n",
      "\n",
      "100%|██████████| 2/2 [10:09<00:00, 322.86s/it]\u001B[A\u001B[A\n",
      "\n",
      "                                              \u001B[A\u001B[A\n",
      " 33%|███▎      | 1/3 [10:09<20:19, 609.62s/it]\u001B[A\n",
      "\n",
      "  0%|          | 0/2 [00:00<?, ?it/s]\u001B[A\u001B[A"
     ]
    },
    {
     "name": "stdout",
     "output_type": "stream",
     "text": [
      "initial_data_x and y (250, 10) (190, 10)\n"
     ]
    },
    {
     "name": "stderr",
     "output_type": "stream",
     "text": [
      "\n",
      "\n",
      "                                     \u001B[A\u001B[A\n",
      "                                              \u001B[A\r"
     ]
    },
    {
     "ename": "TypeError",
     "evalue": "Expected state_dict to be dict-like, got <class 'NoneType'>.",
     "output_type": "error",
     "traceback": [
      "\u001B[1;31m---------------------------------------------------------------------------\u001B[0m",
      "\u001B[1;31mTypeError\u001B[0m                                 Traceback (most recent call last)",
      "Cell \u001B[1;32mIn[12], line 18\u001B[0m\n\u001B[0;32m     14\u001B[0m \u001B[38;5;28;01mfor\u001B[39;00m effective \u001B[38;5;129;01min\u001B[39;00m tqdm(effectives, leave\u001B[38;5;241m=\u001B[39m\u001B[38;5;28;01mFalse\u001B[39;00m):\n\u001B[0;32m     15\u001B[0m             \u001B[38;5;66;03m# ModelManager 객체 생성\u001B[39;00m\n\u001B[0;32m     16\u001B[0m             manager \u001B[38;5;241m=\u001B[39m ModelManager(CONFIG, logR_df, window_size\u001B[38;5;241m=\u001B[39mwindow_size, training_period\u001B[38;5;241m=\u001B[39mtraining_period, threshold\u001B[38;5;241m=\u001B[39m\u001B[38;5;28;01mNone\u001B[39;00m, Effective\u001B[38;5;241m=\u001B[39meffective)\n\u001B[1;32m---> 18\u001B[0m             \u001B[43mmanager\u001B[49m\u001B[38;5;241;43m.\u001B[39;49m\u001B[43mtrain_and_evaluate\u001B[49m\u001B[43m(\u001B[49m\u001B[43m)\u001B[49m  \u001B[38;5;66;03m# Example sizes in days\u001B[39;00m\n\u001B[0;32m     20\u001B[0m             \u001B[38;5;66;03m# 결과 플롯 및 저장\u001B[39;00m\n\u001B[0;32m     21\u001B[0m             manager\u001B[38;5;241m.\u001B[39mplot_results()\n",
      "Cell \u001B[1;32mIn[10], line 97\u001B[0m, in \u001B[0;36mModelManager.train_and_evaluate\u001B[1;34m(self)\u001B[0m\n\u001B[0;32m     94\u001B[0m \u001B[38;5;28mself\u001B[39m\u001B[38;5;241m.\u001B[39mmodel \u001B[38;5;241m=\u001B[39m \u001B[38;5;28mself\u001B[39m\u001B[38;5;241m.\u001B[39mload_model(te_matrix, te_matrix, \u001B[38;5;28mself\u001B[39m\u001B[38;5;241m.\u001B[39mwindow_size)\n\u001B[0;32m     95\u001B[0m \u001B[38;5;28mself\u001B[39m\u001B[38;5;241m.\u001B[39moptimizer \u001B[38;5;241m=\u001B[39m torch\u001B[38;5;241m.\u001B[39moptim\u001B[38;5;241m.\u001B[39mAdam(\u001B[38;5;28mself\u001B[39m\u001B[38;5;241m.\u001B[39mmodel\u001B[38;5;241m.\u001B[39mparameters(), lr\u001B[38;5;241m=\u001B[39m\u001B[38;5;28mself\u001B[39m\u001B[38;5;241m.\u001B[39mconfig\u001B[38;5;241m.\u001B[39mLR)\n\u001B[1;32m---> 97\u001B[0m \u001B[38;5;28;43mself\u001B[39;49m\u001B[38;5;241;43m.\u001B[39;49m\u001B[43mtrain_model\u001B[49m\u001B[43m(\u001B[49m\u001B[43minitial_data_x\u001B[49m\u001B[43m,\u001B[49m\u001B[43m \u001B[49m\u001B[43minitial_data_y\u001B[49m\u001B[43m)\u001B[49m\n\u001B[0;32m    100\u001B[0m num_change \u001B[38;5;241m=\u001B[39m \u001B[38;5;241m0\u001B[39m\n\u001B[0;32m    102\u001B[0m \u001B[38;5;28;01mfor\u001B[39;00m day \u001B[38;5;129;01min\u001B[39;00m tqdm(\u001B[38;5;28mrange\u001B[39m(\u001B[38;5;28mself\u001B[39m\u001B[38;5;241m.\u001B[39mtraining_period, \u001B[38;5;28mlen\u001B[39m(\u001B[38;5;28mself\u001B[39m\u001B[38;5;241m.\u001B[39mdata_np) \u001B[38;5;241m-\u001B[39m \u001B[38;5;28mself\u001B[39m\u001B[38;5;241m.\u001B[39mwindow_size)):\n",
      "Cell \u001B[1;32mIn[10], line 185\u001B[0m, in \u001B[0;36mModelManager.train_model\u001B[1;34m(self, x, y)\u001B[0m\n\u001B[0;32m    182\u001B[0m         best_val_loss \u001B[38;5;241m=\u001B[39m val_total_loss\n\u001B[0;32m    183\u001B[0m         best_model_state \u001B[38;5;241m=\u001B[39m \u001B[38;5;28mself\u001B[39m\u001B[38;5;241m.\u001B[39mmodel\u001B[38;5;241m.\u001B[39mstate_dict()  \u001B[38;5;66;03m# 모델의 가중치 저장\u001B[39;00m\n\u001B[1;32m--> 185\u001B[0m \u001B[38;5;28;43mself\u001B[39;49m\u001B[38;5;241;43m.\u001B[39;49m\u001B[43mmodel\u001B[49m\u001B[38;5;241;43m.\u001B[39;49m\u001B[43mload_state_dict\u001B[49m\u001B[43m(\u001B[49m\u001B[43mbest_model_state\u001B[49m\u001B[43m)\u001B[49m\n",
      "File \u001B[1;32m~\\Desktop\\CauGNN-main\\venv\\lib\\site-packages\\torch\\nn\\modules\\module.py:1559\u001B[0m, in \u001B[0;36mModule.load_state_dict\u001B[1;34m(self, state_dict, strict)\u001B[0m\n\u001B[0;32m   1536\u001B[0m \u001B[38;5;250m\u001B[39m\u001B[38;5;124mr\u001B[39m\u001B[38;5;124;03m\"\"\"Copies parameters and buffers from :attr:`state_dict` into\u001B[39;00m\n\u001B[0;32m   1537\u001B[0m \u001B[38;5;124;03mthis module and its descendants. If :attr:`strict` is ``True``, then\u001B[39;00m\n\u001B[0;32m   1538\u001B[0m \u001B[38;5;124;03mthe keys of :attr:`state_dict` must exactly match the keys returned\u001B[39;00m\n\u001B[1;32m   (...)\u001B[0m\n\u001B[0;32m   1556\u001B[0m \u001B[38;5;124;03m    ``RuntimeError``.\u001B[39;00m\n\u001B[0;32m   1557\u001B[0m \u001B[38;5;124;03m\"\"\"\u001B[39;00m\n\u001B[0;32m   1558\u001B[0m \u001B[38;5;28;01mif\u001B[39;00m \u001B[38;5;129;01mnot\u001B[39;00m \u001B[38;5;28misinstance\u001B[39m(state_dict, Mapping):\n\u001B[1;32m-> 1559\u001B[0m     \u001B[38;5;28;01mraise\u001B[39;00m \u001B[38;5;167;01mTypeError\u001B[39;00m(\u001B[38;5;124m\"\u001B[39m\u001B[38;5;124mExpected state_dict to be dict-like, got \u001B[39m\u001B[38;5;132;01m{}\u001B[39;00m\u001B[38;5;124m.\u001B[39m\u001B[38;5;124m\"\u001B[39m\u001B[38;5;241m.\u001B[39mformat(\u001B[38;5;28mtype\u001B[39m(state_dict)))\n\u001B[0;32m   1561\u001B[0m missing_keys: List[\u001B[38;5;28mstr\u001B[39m] \u001B[38;5;241m=\u001B[39m []\n\u001B[0;32m   1562\u001B[0m unexpected_keys: List[\u001B[38;5;28mstr\u001B[39m] \u001B[38;5;241m=\u001B[39m []\n",
      "\u001B[1;31mTypeError\u001B[0m: Expected state_dict to be dict-like, got <class 'NoneType'>."
     ]
    }
   ],
   "execution_count": 12
  },
  {
   "metadata": {
    "ExecuteTime": {
     "end_time": "2024-08-26T08:36:42.629349Z",
     "start_time": "2024-08-26T08:36:42.629349Z"
    }
   },
   "cell_type": "code",
   "source": [
    "# Configuration and initialization\n",
    "fin = open(\"/Users/sangheon/Desktop/CauGNN-main/TENet-master/data/log_df_etf10.txt\")\n",
    "data = np.loadtxt(fin, delimiter=',')\n",
    "manager = ModelManager(CONFIG, data, threshold=None, Effective=True, volatility_type=1, num_change_te=None, direction=None)\n",
    "manager.train_and_evaluate(window_size=32, training_period=750, testing_period=250)  # Example sizes in days\n",
    "manager.plot_results()\n",
    "manager.save_results_to_excel()"
   ],
   "id": "588c5d23d5fac389",
   "outputs": [],
   "execution_count": null
  },
  {
   "metadata": {
    "ExecuteTime": {
     "end_time": "2024-08-14T05:07:27.568380Z",
     "start_time": "2024-08-14T05:07:27.568380Z"
    }
   },
   "cell_type": "code",
   "source": [
    "'''\n",
    "변수\n",
    "training period size : big window size of train\n",
    "testing period size : big window size of test & big window moving size\n",
    "window_size : small window moving size\n",
    "threshold : TE or ETE threshold\n",
    "volatility type : , 0 for log return, 1 for absolute log return, 2 for realized volatility\n",
    "\n",
    "horizon : 1 (small window moving size) / Fixed\n",
    "training rate : 0.7 in train set(on training period size) & Shuffled / Fixed\n",
    "validation rate : 0.3 in train set / Fixed\n",
    "\n",
    "changing point index(TE 임계값 넘는 지점)\n",
    "changing point list\n",
    "TE list\n",
    "ETE list\n",
    "Loss list of each stock\n",
    "Loss list of all\n",
    "\n",
    "\n",
    "특정 Threshold에 따라 모델 변경\n",
    "전체 ETF의 TE 평균, inflow TE의 평균, outflow TE의 평균, inflow의 평균이 threshold를 넘는 ETF의 개수, outflow의 평균이 threshold를 넘는 ETF의 개수\n",
    "총 5개의 경우\n",
    "\n",
    "공통\n",
    "window size : 3m, 6m, 1y, 3y, 5y\n",
    "'''"
   ],
   "id": "5835808af4d0b990",
   "outputs": [],
   "execution_count": null
  }
 ],
 "metadata": {
  "kernelspec": {
   "display_name": "Python 3",
   "language": "python",
   "name": "python3"
  },
  "language_info": {
   "codemirror_mode": {
    "name": "ipython",
    "version": 2
   },
   "file_extension": ".py",
   "mimetype": "text/x-python",
   "name": "python",
   "nbconvert_exporter": "python",
   "pygments_lexer": "ipython2",
   "version": "2.7.6"
  }
 },
 "nbformat": 4,
 "nbformat_minor": 5
}
